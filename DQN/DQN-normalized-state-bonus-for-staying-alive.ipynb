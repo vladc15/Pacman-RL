{
 "metadata": {
  "kernelspec": {
   "name": "python3",
   "display_name": "Python 3",
   "language": "python"
  },
  "language_info": {
   "name": "python",
   "version": "3.10.12",
   "mimetype": "text/x-python",
   "codemirror_mode": {
    "name": "ipython",
    "version": 3
   },
   "pygments_lexer": "ipython3",
   "nbconvert_exporter": "python",
   "file_extension": ".py"
  },
  "kaggle": {
   "accelerator": "nvidiaTeslaT4",
   "dataSources": [],
   "dockerImageVersionId": 30823,
   "isInternetEnabled": true,
   "language": "python",
   "sourceType": "notebook",
   "isGpuEnabled": true
  },
  "colab": {
   "provenance": [],
   "gpuType": "T4"
  },
  "accelerator": "GPU"
 },
 "nbformat_minor": 5,
 "nbformat": 4,
 "cells": [
  {
   "id": "initial_id",
   "cell_type": "code",
   "source": "import numpy as np\n!pip install gymnasium\nimport gymnasium as gym\n!pip install ale_py\nimport ale_py\nimport sys\nimport pylab\nimport random\nfrom collections import deque\nfrom tensorflow.keras.models import Sequential\nfrom tensorflow.keras.layers import Dense, Input, Conv2D, Flatten\nfrom tensorflow.keras.optimizers import Adam\nimport tensorflow as tf\nfrom gymnasium import wrappers\nfrom tqdm import tqdm",
   "metadata": {
    "ExecuteTime": {
     "end_time": "2025-01-08T13:09:26.940997Z",
     "start_time": "2025-01-08T13:09:26.937003Z"
    },
    "trusted": true,
    "execution": {
     "iopub.status.busy": "2025-01-09T16:10:28.104320Z",
     "iopub.execute_input": "2025-01-09T16:10:28.104621Z",
     "iopub.status.idle": "2025-01-09T16:10:44.264034Z",
     "shell.execute_reply.started": "2025-01-09T16:10:28.104589Z",
     "shell.execute_reply": "2025-01-09T16:10:44.263080Z"
    },
    "colab": {
     "base_uri": "https://localhost:8080/"
    },
    "id": "initial_id",
    "outputId": "ec9162df-982a-4c82-db03-c4f7c42574b4"
   },
   "outputs": [
    {
     "name": "stdout",
     "text": "Requirement already satisfied: gymnasium in /usr/local/lib/python3.10/dist-packages (0.29.0)\nRequirement already satisfied: numpy>=1.21.0 in /usr/local/lib/python3.10/dist-packages (from gymnasium) (1.26.4)\nRequirement already satisfied: cloudpickle>=1.2.0 in /usr/local/lib/python3.10/dist-packages (from gymnasium) (3.1.0)\nRequirement already satisfied: typing-extensions>=4.3.0 in /usr/local/lib/python3.10/dist-packages (from gymnasium) (4.12.2)\nRequirement already satisfied: farama-notifications>=0.0.1 in /usr/local/lib/python3.10/dist-packages (from gymnasium) (0.0.4)\nCollecting ale_py\n  Downloading ale_py-0.10.1-cp310-cp310-manylinux_2_17_x86_64.manylinux2014_x86_64.whl.metadata (7.6 kB)\nRequirement already satisfied: numpy>1.20 in /usr/local/lib/python3.10/dist-packages (from ale_py) (1.26.4)\nRequirement already satisfied: typing-extensions in /usr/local/lib/python3.10/dist-packages (from ale_py) (4.12.2)\nDownloading ale_py-0.10.1-cp310-cp310-manylinux_2_17_x86_64.manylinux2014_x86_64.whl (2.1 MB)\n\u001B[2K   \u001B[90m━━━━━━━━━━━━━━━━━━━━━━━━━━━━━━━━━━━━━━━━\u001B[0m \u001B[32m2.1/2.1 MB\u001B[0m \u001B[31m26.2 MB/s\u001B[0m eta \u001B[36m0:00:00\u001B[0m00:01\u001B[0m00:01\u001B[0m\n\u001B[?25hInstalling collected packages: ale_py\nSuccessfully installed ale_py-0.10.1\n",
     "output_type": "stream"
    }
   ],
   "execution_count": 1
  },
  {
   "id": "8b345dda8316c194",
   "cell_type": "code",
   "source": [
    "class DQN:\n",
    "    def __init__(self, state_size, action_size, load_model=False):\n",
    "        self.state_size = state_size\n",
    "        self.action_size = action_size\n",
    "\n",
    "        if load_model: # loading the model will disable training\n",
    "            self.discount = 0.99\n",
    "            self.learning_rate = 0.00001\n",
    "            self.epsilon = 0.2 # exploring at 1 and exploiting at 0\n",
    "            self.epsilon_decay = 0.99999\n",
    "            self.epsilon_min = 0.2\n",
    "        else:\n",
    "            self.discount = 0.99\n",
    "            self.learning_rate = 0.005\n",
    "            self.epsilon = 1.0\n",
    "            self.epsilon_decay = 0.9999\n",
    "            self.epsilon_min = 0.1\n",
    "\n",
    "        self.batch_size = 64\n",
    "        self.train_start = 1000\n",
    "\n",
    "        self.memory = deque(maxlen=2000)\n",
    "        self.model = self.build_model()\n",
    "\n",
    "        if load_model:\n",
    "            self.model.load_weights('./results/pacman.h5')\n",
    "\n",
    "    def build_model(self):\n",
    "        model = Sequential()\n",
    "        #model.add(Input(shape=(self.state_size,)))\n",
    "        model.add(Input(shape=(84, 84, 1)))\n",
    "\n",
    "        #model.add(Dense(128, activation='relu', kernel_initializer='he_uniform'))\n",
    "        #model.add(Dense(32, activation='relu', kernel_initializer='he_uniform'))\n",
    "\n",
    "        \"\"\"model.add(Conv2D(32, (8, 8), strides=(4,4), activation='relu', kernel_initializer='he_uniform'))\n",
    "        model.add(Conv2D(64, (4, 4), strides=(2,2), activation='relu', kernel_initializer='he_uniform'))\n",
    "        model.add(Conv2D(64, (3, 3), activation='relu', kernel_initializer='he_uniform'))\n",
    "        model.add(Flatten())\n",
    "        model.add(Dense(512, activation='relu', kernel_initializer='he_uniform'))\n",
    "\n",
    "        model.add(Dense(self.action_size, activation='linear', kernel_initializer='he_uniform'))\"\"\"\n",
    "\n",
    "        \"\"\"model.add(Conv2D(filters = 32,kernel_size = (8,8),strides = 4,data_format=\"channels_last\", activation = 'relu',kernel_initializer = tf.keras.initializers.VarianceScaling(scale=2)))\n",
    "        model.add(Conv2D(filters = 64,kernel_size = (4,4),strides = 2,data_format=\"channels_last\", activation = 'relu',kernel_initializer = tf.keras.initializers.VarianceScaling(scale=2)))\n",
    "        model.add(Conv2D(filters = 64,kernel_size = (3,3),strides = 1,data_format=\"channels_last\", activation = 'relu',kernel_initializer = tf.keras.initializers.VarianceScaling(scale=2)))\n",
    "        model.add(Flatten())\n",
    "        model.add(Dense(512,activation = 'relu', kernel_initializer = tf.keras.initializers.VarianceScaling(scale=2)))\n",
    "        model.add(Dense(len(self.action_size), activation = 'linear'))\"\"\"\n",
    "\n",
    "        model.add(Conv2D(32, (8, 8), strides=4, activation='relu', kernel_initializer='he_uniform', ))\n",
    "        model.add(Conv2D(64, (4, 4), strides=2, activation='relu', kernel_initializer='he_uniform', ))\n",
    "        model.add(Conv2D(64, (3, 3), strides=1, activation='relu', kernel_initializer='he_uniform', ))\n",
    "        model.add(Flatten())\n",
    "        model.add(Dense(512, activation='relu', kernel_initializer='he_uniform'))\n",
    "\n",
    "        model.add(Dense(self.action_size, activation='linear', kernel_initializer='he_uniform'))\n",
    "\n",
    "        model.compile(loss='mse', optimizer=Adam(learning_rate=self.learning_rate))\n",
    "        model.summary()\n",
    "        return model\n",
    "\n",
    "    def get_action(self, state):\n",
    "        if np.random.rand() <= self.epsilon:\n",
    "            return random.randrange(self.action_size)\n",
    "        else:\n",
    "            with tf.device(device):\n",
    "                act_values = self.model.predict(state, verbose=0) # get the Q-values for the state\n",
    "            return np.argmax(act_values[0]) # return the action with the highest Q-value\n",
    "\n",
    "    def append_memory(self, state, action, reward, next_state, done):\n",
    "        self.memory.append((state, action, reward, next_state, done))\n",
    "        # if self.epsilon > self.epsilon_min:\n",
    "        #     self.epsilon *= self.epsilon_decay\n",
    "\n",
    "    def experience_replay(self): # experience replay\n",
    "        # if len(self.memory) < self.train_start:\n",
    "        #     return\n",
    "        if len(self.memory) < self.batch_size:\n",
    "            return\n",
    "\n",
    "        #batch_size = min(len(self.memory), self.batch_size)\n",
    "        #batch_size = self.batch_size\n",
    "        minibatch = random.sample(self.memory, self.batch_size)\n",
    "\n",
    "        #state = np.zeros((batch_size, self.state_size))\n",
    "        #next_state = np.zeros((batch_size, self.state_size))\n",
    "        state = np.zeros((self.batch_size, 84, 84, 1))\n",
    "        next_state = np.zeros((self.batch_size, 84, 84, 1))\n",
    "\n",
    "        action, reward, done = [], [], []\n",
    "\n",
    "        for i in range(self.batch_size):\n",
    "            state[i] = minibatch[i][0].reshape((84, 84, 1))\n",
    "            action.append(minibatch[i][1])\n",
    "            reward.append(minibatch[i][2])\n",
    "            next_state[i] = minibatch[i][3].reshape((84, 84, 1))\n",
    "            done.append(minibatch[i][4])\n",
    "\n",
    "        with tf.device(device):\n",
    "            target = self.model.predict(state, verbose=0)\n",
    "            target_next = self.model.predict(next_state, verbose=0)\n",
    "\n",
    "        for i in range(self.batch_size):\n",
    "            if done[i]:\n",
    "                target[i][action[i]] = reward[i]\n",
    "            else:\n",
    "                target[i][action[i]] = reward[i] + self.discount * np.amax(target_next[i])\n",
    "        with tf.device(device):\n",
    "            self.model.fit(state, target, batch_size=self.batch_size, epochs=1, verbose=0)\n",
    "\n",
    "        if self.epsilon > self.epsilon_min:\n",
    "            self.epsilon *= self.epsilon_decay"
   ],
   "metadata": {
    "ExecuteTime": {
     "end_time": "2025-01-08T14:30:29.706978Z",
     "start_time": "2025-01-08T14:30:29.683628Z"
    },
    "trusted": true,
    "execution": {
     "iopub.status.busy": "2025-01-09T16:11:18.325588Z",
     "iopub.execute_input": "2025-01-09T16:11:18.325993Z",
     "iopub.status.idle": "2025-01-09T16:11:18.340791Z",
     "shell.execute_reply.started": "2025-01-09T16:11:18.325963Z",
     "shell.execute_reply": "2025-01-09T16:11:18.339950Z"
    },
    "id": "8b345dda8316c194"
   },
   "outputs": [
    {
     "name": "stderr",
     "text": "/usr/local/lib/python3.10/dist-packages/ipykernel/ipkernel.py:283: DeprecationWarning: `should_run_async` will not call `transform_cell` automatically in the future. Please pass the result to `transformed_cell` argument and any exception that happen during thetransform in `preprocessing_exc_tuple` in IPython 7.17 and above.\n  and should_run_async(code)\n",
     "output_type": "stream"
    }
   ],
   "execution_count": 2
  },
  {
   "id": "1fe24eb44278346b",
   "cell_type": "code",
   "source": [
    "n_episodes = 101\n",
    "environment = 'ALE/Pacman-v5'\n",
    "path_training = './DQN/results/'\n",
    "path_training = '/kaggle/working/'\n",
    "\n",
    "\"\"\"from google.colab import drive\n",
    "drive.mount('/content/drive')\n",
    "path_training = '/content/drive/MyDrive/'\"\"\"\n",
    "\n",
    "gym.register_envs(ale_py)\n",
    "device = '/GPU:0' if tf.config.experimental.list_physical_devices('GPU') else '/CPU:0'"
   ],
   "metadata": {
    "ExecuteTime": {
     "end_time": "2025-01-08T14:09:36.257917Z",
     "start_time": "2025-01-08T14:09:36.254039Z"
    },
    "trusted": true,
    "execution": {
     "iopub.status.busy": "2025-01-09T16:12:03.216111Z",
     "iopub.execute_input": "2025-01-09T16:12:03.216420Z",
     "iopub.status.idle": "2025-01-09T16:12:03.220439Z",
     "shell.execute_reply.started": "2025-01-09T16:12:03.216393Z",
     "shell.execute_reply": "2025-01-09T16:12:03.219538Z"
    },
    "colab": {
     "base_uri": "https://localhost:8080/"
    },
    "id": "1fe24eb44278346b",
    "outputId": "ab260ead-702f-4642-d6bb-26441203d5c5"
   },
   "outputs": [],
   "execution_count": 6
  },
  {
   "id": "569a7e532cf5fcef",
   "cell_type": "code",
   "source": "class Pacman:\n    def __init__(self, mode, view):\n        self.env = gym.make(environment, frameskip=1, render_mode=view) # rgb_array or human\n        self.env.reset()\n        size_state = self.env.observation_space.shape[0]\n        size_action = self.env.action_space.n\n\n        # network construction\n        if mode.lower() == 'test':\n            load_model = True\n        else:\n            load_model = False\n\n        #self.agent = DQN(size_state, size_action, load_model)\n        self.agent = DQN((84, 84, 1), size_action, load_model)\n\n    def train(self, path, statistics, mode):\n        if path:\n            train_path = path\n        else:\n            train_path = path_training\n\n        if statistics:\n            print('Scores will be plotted')\n        else:\n            print('Scores will not be plotted')\n\n        env = self.env\n        env = wrappers.AtariPreprocessing(env, frame_skip=4, grayscale_obs=True, screen_size=84)\n\n        agent = self.agent\n\n        size_state = self.env.observation_space.shape[0]\n        scores, episodes = [], []\n\n        scaler = tf.keras.layers.Rescaling(1./255)\n\n        for e in tqdm(range(n_episodes)):\n            done = False\n            score = 0\n            state, _ = env.reset()\n            #state = np.reshape(state, [1, size_state])\n            state = np.expand_dims(state, axis=-1) # 84x84x1 now\n            state = np.moveaxis(state, 2, 0) / 255.0\n            state = np.reshape(state, (1, 84, 84, 1))\n\n            lives = 4\n            while not done:\n                dead = False\n                while not dead:\n                    action = agent.get_action(state)\n                    next_state, reward, done, _, info = env.step(action)\n                    #next_state = np.reshape(next_state, [1, size_state])\n                    next_state = np.expand_dims(next_state, axis=-1)\n                    next_state = np.moveaxis(next_state, 2, 0) / 255.0\n                    next_state = np.reshape(next_state, (1, 84, 84, 1))\n\n                    real_reward = reward\n                    reward = reward + 0.05 if not dead else -10 # penalize deaths, encourage surviving\n\n                    agent.append_memory(state, action, reward, next_state, done)\n                    agent.experience_replay()\n\n\n                    state = next_state\n                    score += real_reward\n                    dead = info['lives'] < lives\n                    lives = info['lives']\n                    #reward = reward if not dead else -10 # penalize deaths\n\n                if done:\n                    scores.append(score)\n                    episodes.append(e)\n                    #agent.update_target_model()\n\n                    if statistics:\n                        pylab.plot(episodes, scores, 'b')\n                        pylab.savefig(train_path + 'pacman.png')\n                    print('episode: {}/{}, score: {}, epsilon: {:.2}'.format(e, episodes, score, agent.epsilon))\n\n            if e%50 == 0 and mode.lower() == 'train': # save the model every 50 episodes\n                agent.model.save_weights(train_path + 'pacman.weights.h5')\n                print('Model saved')",
   "metadata": {
    "ExecuteTime": {
     "end_time": "2025-01-08T14:09:36.598816Z",
     "start_time": "2025-01-08T14:09:36.587237Z"
    },
    "trusted": true,
    "execution": {
     "iopub.status.busy": "2025-01-09T16:12:06.737098Z",
     "iopub.execute_input": "2025-01-09T16:12:06.737391Z",
     "iopub.status.idle": "2025-01-09T16:12:06.747273Z",
     "shell.execute_reply.started": "2025-01-09T16:12:06.737370Z",
     "shell.execute_reply": "2025-01-09T16:12:06.746251Z"
    },
    "id": "569a7e532cf5fcef"
   },
   "outputs": [],
   "execution_count": 7
  },
  {
   "id": "393ba7a12144fcc5",
   "cell_type": "code",
   "source": "# run the code\npacman = Pacman('train', 'rgb_array')",
   "metadata": {
    "ExecuteTime": {
     "end_time": "2025-01-08T14:09:37.420734Z",
     "start_time": "2025-01-08T14:09:37.241875Z"
    },
    "trusted": true,
    "execution": {
     "iopub.status.busy": "2025-01-09T16:12:10.994994Z",
     "iopub.execute_input": "2025-01-09T16:12:10.995279Z",
     "iopub.status.idle": "2025-01-09T16:12:11.590034Z",
     "shell.execute_reply.started": "2025-01-09T16:12:10.995258Z",
     "shell.execute_reply": "2025-01-09T16:12:11.589352Z"
    },
    "colab": {
     "base_uri": "https://localhost:8080/",
     "height": 340
    },
    "id": "393ba7a12144fcc5",
    "outputId": "8ced969b-9d3b-467c-ee61-b7a9a08b0531"
   },
   "outputs": [
    {
     "output_type": "display_data",
     "data": {
      "text/plain": "\u001B[1mModel: \"sequential\"\u001B[0m\n",
      "text/html": "<pre style=\"white-space:pre;overflow-x:auto;line-height:normal;font-family:Menlo,'DejaVu Sans Mono',consolas,'Courier New',monospace\"><span style=\"font-weight: bold\">Model: \"sequential\"</span>\n</pre>\n"
     },
     "metadata": {}
    },
    {
     "output_type": "display_data",
     "data": {
      "text/plain": "┏━━━━━━━━━━━━━━━━━━━━━━━━━━━━━━━━━━━━━━┳━━━━━━━━━━━━━━━━━━━━━━━━━━━━━┳━━━━━━━━━━━━━━━━━┓\n┃\u001B[1m \u001B[0m\u001B[1mLayer (type)                        \u001B[0m\u001B[1m \u001B[0m┃\u001B[1m \u001B[0m\u001B[1mOutput Shape               \u001B[0m\u001B[1m \u001B[0m┃\u001B[1m \u001B[0m\u001B[1m        Param #\u001B[0m\u001B[1m \u001B[0m┃\n┡━━━━━━━━━━━━━━━━━━━━━━━━━━━━━━━━━━━━━━╇━━━━━━━━━━━━━━━━━━━━━━━━━━━━━╇━━━━━━━━━━━━━━━━━┩\n│ conv2d (\u001B[38;5;33mConv2D\u001B[0m)                      │ (\u001B[38;5;45mNone\u001B[0m, \u001B[38;5;34m20\u001B[0m, \u001B[38;5;34m20\u001B[0m, \u001B[38;5;34m32\u001B[0m)          │           \u001B[38;5;34m2,080\u001B[0m │\n├──────────────────────────────────────┼─────────────────────────────┼─────────────────┤\n│ conv2d_1 (\u001B[38;5;33mConv2D\u001B[0m)                    │ (\u001B[38;5;45mNone\u001B[0m, \u001B[38;5;34m9\u001B[0m, \u001B[38;5;34m9\u001B[0m, \u001B[38;5;34m64\u001B[0m)            │          \u001B[38;5;34m32,832\u001B[0m │\n├──────────────────────────────────────┼─────────────────────────────┼─────────────────┤\n│ conv2d_2 (\u001B[38;5;33mConv2D\u001B[0m)                    │ (\u001B[38;5;45mNone\u001B[0m, \u001B[38;5;34m7\u001B[0m, \u001B[38;5;34m7\u001B[0m, \u001B[38;5;34m64\u001B[0m)            │          \u001B[38;5;34m36,928\u001B[0m │\n├──────────────────────────────────────┼─────────────────────────────┼─────────────────┤\n│ flatten (\u001B[38;5;33mFlatten\u001B[0m)                    │ (\u001B[38;5;45mNone\u001B[0m, \u001B[38;5;34m3136\u001B[0m)                │               \u001B[38;5;34m0\u001B[0m │\n├──────────────────────────────────────┼─────────────────────────────┼─────────────────┤\n│ dense (\u001B[38;5;33mDense\u001B[0m)                        │ (\u001B[38;5;45mNone\u001B[0m, \u001B[38;5;34m512\u001B[0m)                 │       \u001B[38;5;34m1,606,144\u001B[0m │\n├──────────────────────────────────────┼─────────────────────────────┼─────────────────┤\n│ dense_1 (\u001B[38;5;33mDense\u001B[0m)                      │ (\u001B[38;5;45mNone\u001B[0m, \u001B[38;5;34m5\u001B[0m)                   │           \u001B[38;5;34m2,565\u001B[0m │\n└──────────────────────────────────────┴─────────────────────────────┴─────────────────┘\n",
      "text/html": "<pre style=\"white-space:pre;overflow-x:auto;line-height:normal;font-family:Menlo,'DejaVu Sans Mono',consolas,'Courier New',monospace\">┏━━━━━━━━━━━━━━━━━━━━━━━━━━━━━━━━━━━━━━┳━━━━━━━━━━━━━━━━━━━━━━━━━━━━━┳━━━━━━━━━━━━━━━━━┓\n┃<span style=\"font-weight: bold\"> Layer (type)                         </span>┃<span style=\"font-weight: bold\"> Output Shape                </span>┃<span style=\"font-weight: bold\">         Param # </span>┃\n┡━━━━━━━━━━━━━━━━━━━━━━━━━━━━━━━━━━━━━━╇━━━━━━━━━━━━━━━━━━━━━━━━━━━━━╇━━━━━━━━━━━━━━━━━┩\n│ conv2d (<span style=\"color: #0087ff; text-decoration-color: #0087ff\">Conv2D</span>)                      │ (<span style=\"color: #00d7ff; text-decoration-color: #00d7ff\">None</span>, <span style=\"color: #00af00; text-decoration-color: #00af00\">20</span>, <span style=\"color: #00af00; text-decoration-color: #00af00\">20</span>, <span style=\"color: #00af00; text-decoration-color: #00af00\">32</span>)          │           <span style=\"color: #00af00; text-decoration-color: #00af00\">2,080</span> │\n├──────────────────────────────────────┼─────────────────────────────┼─────────────────┤\n│ conv2d_1 (<span style=\"color: #0087ff; text-decoration-color: #0087ff\">Conv2D</span>)                    │ (<span style=\"color: #00d7ff; text-decoration-color: #00d7ff\">None</span>, <span style=\"color: #00af00; text-decoration-color: #00af00\">9</span>, <span style=\"color: #00af00; text-decoration-color: #00af00\">9</span>, <span style=\"color: #00af00; text-decoration-color: #00af00\">64</span>)            │          <span style=\"color: #00af00; text-decoration-color: #00af00\">32,832</span> │\n├──────────────────────────────────────┼─────────────────────────────┼─────────────────┤\n│ conv2d_2 (<span style=\"color: #0087ff; text-decoration-color: #0087ff\">Conv2D</span>)                    │ (<span style=\"color: #00d7ff; text-decoration-color: #00d7ff\">None</span>, <span style=\"color: #00af00; text-decoration-color: #00af00\">7</span>, <span style=\"color: #00af00; text-decoration-color: #00af00\">7</span>, <span style=\"color: #00af00; text-decoration-color: #00af00\">64</span>)            │          <span style=\"color: #00af00; text-decoration-color: #00af00\">36,928</span> │\n├──────────────────────────────────────┼─────────────────────────────┼─────────────────┤\n│ flatten (<span style=\"color: #0087ff; text-decoration-color: #0087ff\">Flatten</span>)                    │ (<span style=\"color: #00d7ff; text-decoration-color: #00d7ff\">None</span>, <span style=\"color: #00af00; text-decoration-color: #00af00\">3136</span>)                │               <span style=\"color: #00af00; text-decoration-color: #00af00\">0</span> │\n├──────────────────────────────────────┼─────────────────────────────┼─────────────────┤\n│ dense (<span style=\"color: #0087ff; text-decoration-color: #0087ff\">Dense</span>)                        │ (<span style=\"color: #00d7ff; text-decoration-color: #00d7ff\">None</span>, <span style=\"color: #00af00; text-decoration-color: #00af00\">512</span>)                 │       <span style=\"color: #00af00; text-decoration-color: #00af00\">1,606,144</span> │\n├──────────────────────────────────────┼─────────────────────────────┼─────────────────┤\n│ dense_1 (<span style=\"color: #0087ff; text-decoration-color: #0087ff\">Dense</span>)                      │ (<span style=\"color: #00d7ff; text-decoration-color: #00d7ff\">None</span>, <span style=\"color: #00af00; text-decoration-color: #00af00\">5</span>)                   │           <span style=\"color: #00af00; text-decoration-color: #00af00\">2,565</span> │\n└──────────────────────────────────────┴─────────────────────────────┴─────────────────┘\n</pre>\n"
     },
     "metadata": {}
    },
    {
     "output_type": "display_data",
     "data": {
      "text/plain": "\u001B[1m Total params: \u001B[0m\u001B[38;5;34m1,680,549\u001B[0m (6.41 MB)\n",
      "text/html": "<pre style=\"white-space:pre;overflow-x:auto;line-height:normal;font-family:Menlo,'DejaVu Sans Mono',consolas,'Courier New',monospace\"><span style=\"font-weight: bold\"> Total params: </span><span style=\"color: #00af00; text-decoration-color: #00af00\">1,680,549</span> (6.41 MB)\n</pre>\n"
     },
     "metadata": {}
    },
    {
     "output_type": "display_data",
     "data": {
      "text/plain": "\u001B[1m Trainable params: \u001B[0m\u001B[38;5;34m1,680,549\u001B[0m (6.41 MB)\n",
      "text/html": "<pre style=\"white-space:pre;overflow-x:auto;line-height:normal;font-family:Menlo,'DejaVu Sans Mono',consolas,'Courier New',monospace\"><span style=\"font-weight: bold\"> Trainable params: </span><span style=\"color: #00af00; text-decoration-color: #00af00\">1,680,549</span> (6.41 MB)\n</pre>\n"
     },
     "metadata": {}
    },
    {
     "output_type": "display_data",
     "data": {
      "text/plain": "\u001B[1m Non-trainable params: \u001B[0m\u001B[38;5;34m0\u001B[0m (0.00 B)\n",
      "text/html": "<pre style=\"white-space:pre;overflow-x:auto;line-height:normal;font-family:Menlo,'DejaVu Sans Mono',consolas,'Courier New',monospace\"><span style=\"font-weight: bold\"> Non-trainable params: </span><span style=\"color: #00af00; text-decoration-color: #00af00\">0</span> (0.00 B)\n</pre>\n"
     },
     "metadata": {}
    }
   ],
   "execution_count": 8
  },
  {
   "id": "382ac1ebbab4f144",
   "cell_type": "code",
   "source": "pacman.train(path=path_training, statistics=True, mode='train')",
   "metadata": {
    "ExecuteTime": {
     "end_time": "2025-01-08T14:10:10.304478Z",
     "start_time": "2025-01-08T14:09:39.734401Z"
    },
    "trusted": true,
    "execution": {
     "iopub.status.busy": "2025-01-09T16:12:13.571373Z",
     "iopub.execute_input": "2025-01-09T16:12:13.571714Z",
     "iopub.status.idle": "2025-01-09T18:50:44.142918Z",
     "shell.execute_reply.started": "2025-01-09T16:12:13.571684Z",
     "shell.execute_reply": "2025-01-09T18:50:44.142068Z"
    },
    "colab": {
     "base_uri": "https://localhost:8080/"
    },
    "id": "382ac1ebbab4f144",
    "outputId": "c2a59999-0e61-4c61-a70e-621d80907132"
   },
   "outputs": [
    {
     "name": "stdout",
     "text": "Scores will be plotted\n",
     "output_type": "stream"
    },
    {
     "name": "stderr",
     "text": "  1%|          | 1/101 [01:06<1:51:18, 66.78s/it]",
     "output_type": "stream"
    },
    {
     "name": "stdout",
     "text": "episode: 0/[0], score: 13.0, epsilon: 0.97\nModel saved\n",
     "output_type": "stream"
    },
    {
     "name": "stderr",
     "text": "  2%|▏         | 2/101 [02:51<2:27:13, 89.23s/it]",
     "output_type": "stream"
    },
    {
     "name": "stdout",
     "text": "episode: 1/[0, 1], score: 13.0, epsilon: 0.91\n",
     "output_type": "stream"
    },
    {
     "name": "stderr",
     "text": "  3%|▎         | 3/101 [04:03<2:12:32, 81.15s/it]",
     "output_type": "stream"
    },
    {
     "name": "stdout",
     "text": "episode: 2/[0, 1, 2], score: 18.0, epsilon: 0.88\n",
     "output_type": "stream"
    },
    {
     "name": "stderr",
     "text": "  4%|▍         | 4/101 [05:06<1:59:59, 74.22s/it]",
     "output_type": "stream"
    },
    {
     "name": "stdout",
     "text": "episode: 3/[0, 1, 2, 3], score: 10.0, epsilon: 0.85\n",
     "output_type": "stream"
    },
    {
     "name": "stderr",
     "text": "  5%|▍         | 5/101 [06:38<2:08:48, 80.50s/it]",
     "output_type": "stream"
    },
    {
     "name": "stdout",
     "text": "episode: 4/[0, 1, 2, 3, 4], score: 20.0, epsilon: 0.81\n",
     "output_type": "stream"
    },
    {
     "name": "stderr",
     "text": "  6%|▌         | 6/101 [08:37<2:28:01, 93.49s/it]",
     "output_type": "stream"
    },
    {
     "name": "stdout",
     "text": "episode: 5/[0, 1, 2, 3, 4, 5], score: 26.0, epsilon: 0.76\n",
     "output_type": "stream"
    },
    {
     "name": "stderr",
     "text": "  7%|▋         | 7/101 [10:27<2:35:05, 99.00s/it]",
     "output_type": "stream"
    },
    {
     "name": "stdout",
     "text": "episode: 6/[0, 1, 2, 3, 4, 5, 6], score: 37.0, epsilon: 0.71\n",
     "output_type": "stream"
    },
    {
     "name": "stderr",
     "text": "  8%|▊         | 8/101 [13:00<2:59:51, 116.04s/it]",
     "output_type": "stream"
    },
    {
     "name": "stdout",
     "text": "episode: 7/[0, 1, 2, 3, 4, 5, 6, 7], score: 53.0, epsilon: 0.66\n",
     "output_type": "stream"
    },
    {
     "name": "stderr",
     "text": "  9%|▉         | 9/101 [14:29<2:45:21, 107.84s/it]",
     "output_type": "stream"
    },
    {
     "name": "stdout",
     "text": "episode: 8/[0, 1, 2, 3, 4, 5, 6, 7, 8], score: 17.0, epsilon: 0.63\n",
     "output_type": "stream"
    },
    {
     "name": "stderr",
     "text": " 10%|▉         | 10/101 [15:33<2:22:37, 94.04s/it]",
     "output_type": "stream"
    },
    {
     "name": "stdout",
     "text": "episode: 9/[0, 1, 2, 3, 4, 5, 6, 7, 8, 9], score: 5.0, epsilon: 0.61\n",
     "output_type": "stream"
    },
    {
     "name": "stderr",
     "text": " 11%|█         | 11/101 [16:52<2:14:17, 89.53s/it]",
     "output_type": "stream"
    },
    {
     "name": "stdout",
     "text": "episode: 10/[0, 1, 2, 3, 4, 5, 6, 7, 8, 9, 10], score: 19.0, epsilon: 0.59\n",
     "output_type": "stream"
    },
    {
     "name": "stderr",
     "text": " 12%|█▏        | 12/101 [18:10<2:07:27, 85.93s/it]",
     "output_type": "stream"
    },
    {
     "name": "stdout",
     "text": "episode: 11/[0, 1, 2, 3, 4, 5, 6, 7, 8, 9, 10, 11], score: 20.0, epsilon: 0.57\n",
     "output_type": "stream"
    },
    {
     "name": "stderr",
     "text": " 13%|█▎        | 13/101 [19:25<2:01:28, 82.82s/it]",
     "output_type": "stream"
    },
    {
     "name": "stdout",
     "text": "episode: 12/[0, 1, 2, 3, 4, 5, 6, 7, 8, 9, 10, 11, 12], score: 16.0, epsilon: 0.55\n",
     "output_type": "stream"
    },
    {
     "name": "stderr",
     "text": " 14%|█▍        | 14/101 [20:48<2:00:07, 82.84s/it]",
     "output_type": "stream"
    },
    {
     "name": "stdout",
     "text": "episode: 13/[0, 1, 2, 3, 4, 5, 6, 7, 8, 9, 10, 11, 12, 13], score: 12.0, epsilon: 0.52\n",
     "output_type": "stream"
    },
    {
     "name": "stderr",
     "text": " 15%|█▍        | 15/101 [22:14<2:00:00, 83.73s/it]",
     "output_type": "stream"
    },
    {
     "name": "stdout",
     "text": "episode: 14/[0, 1, 2, 3, 4, 5, 6, 7, 8, 9, 10, 11, 12, 13, 14], score: 20.0, epsilon: 0.5\n",
     "output_type": "stream"
    },
    {
     "name": "stderr",
     "text": " 16%|█▌        | 16/101 [23:42<2:00:42, 85.21s/it]",
     "output_type": "stream"
    },
    {
     "name": "stdout",
     "text": "episode: 15/[0, 1, 2, 3, 4, 5, 6, 7, 8, 9, 10, 11, 12, 13, 14, 15], score: 13.0, epsilon: 0.48\n",
     "output_type": "stream"
    },
    {
     "name": "stderr",
     "text": " 17%|█▋        | 17/101 [25:19<2:04:03, 88.61s/it]",
     "output_type": "stream"
    },
    {
     "name": "stdout",
     "text": "episode: 16/[0, 1, 2, 3, 4, 5, 6, 7, 8, 9, 10, 11, 12, 13, 14, 15, 16], score: 19.0, epsilon: 0.46\n",
     "output_type": "stream"
    },
    {
     "name": "stderr",
     "text": " 18%|█▊        | 18/101 [26:54<2:05:20, 90.60s/it]",
     "output_type": "stream"
    },
    {
     "name": "stdout",
     "text": "episode: 17/[0, 1, 2, 3, 4, 5, 6, 7, 8, 9, 10, 11, 12, 13, 14, 15, 16, 17], score: 20.0, epsilon: 0.44\n",
     "output_type": "stream"
    },
    {
     "name": "stderr",
     "text": " 19%|█▉        | 19/101 [28:29<2:05:22, 91.74s/it]",
     "output_type": "stream"
    },
    {
     "name": "stdout",
     "text": "episode: 18/[0, 1, 2, 3, 4, 5, 6, 7, 8, 9, 10, 11, 12, 13, 14, 15, 16, 17, 18], score: 11.0, epsilon: 0.42\n",
     "output_type": "stream"
    },
    {
     "name": "stderr",
     "text": " 20%|█▉        | 20/101 [29:40<1:55:32, 85.58s/it]",
     "output_type": "stream"
    },
    {
     "name": "stdout",
     "text": "episode: 19/[0, 1, 2, 3, 4, 5, 6, 7, 8, 9, 10, 11, 12, 13, 14, 15, 16, 17, 18, 19], score: 11.0, epsilon: 0.41\n",
     "output_type": "stream"
    },
    {
     "name": "stderr",
     "text": " 21%|██        | 21/101 [31:55<2:13:57, 100.47s/it]",
     "output_type": "stream"
    },
    {
     "name": "stdout",
     "text": "episode: 20/[0, 1, 2, 3, 4, 5, 6, 7, 8, 9, 10, 11, 12, 13, 14, 15, 16, 17, 18, 19, 20], score: 26.0, epsilon: 0.38\n",
     "output_type": "stream"
    },
    {
     "name": "stderr",
     "text": " 22%|██▏       | 22/101 [33:05<2:00:17, 91.36s/it] ",
     "output_type": "stream"
    },
    {
     "name": "stdout",
     "text": "episode: 21/[0, 1, 2, 3, 4, 5, 6, 7, 8, 9, 10, 11, 12, 13, 14, 15, 16, 17, 18, 19, 20, 21], score: 11.0, epsilon: 0.37\n",
     "output_type": "stream"
    },
    {
     "name": "stderr",
     "text": " 23%|██▎       | 23/101 [34:29<1:56:01, 89.24s/it]",
     "output_type": "stream"
    },
    {
     "name": "stdout",
     "text": "episode: 22/[0, 1, 2, 3, 4, 5, 6, 7, 8, 9, 10, 11, 12, 13, 14, 15, 16, 17, 18, 19, 20, 21, 22], score: 13.0, epsilon: 0.36\n",
     "output_type": "stream"
    },
    {
     "name": "stderr",
     "text": " 24%|██▍       | 24/101 [35:59<1:54:29, 89.22s/it]",
     "output_type": "stream"
    },
    {
     "name": "stdout",
     "text": "episode: 23/[0, 1, 2, 3, 4, 5, 6, 7, 8, 9, 10, 11, 12, 13, 14, 15, 16, 17, 18, 19, 20, 21, 22, 23], score: 21.0, epsilon: 0.34\n",
     "output_type": "stream"
    },
    {
     "name": "stderr",
     "text": " 25%|██▍       | 25/101 [38:42<2:21:16, 111.54s/it]",
     "output_type": "stream"
    },
    {
     "name": "stdout",
     "text": "episode: 24/[0, 1, 2, 3, 4, 5, 6, 7, 8, 9, 10, 11, 12, 13, 14, 15, 16, 17, 18, 19, 20, 21, 22, 23, 24], score: 52.0, epsilon: 0.32\n",
     "output_type": "stream"
    },
    {
     "name": "stderr",
     "text": " 26%|██▌       | 26/101 [40:00<2:06:47, 101.43s/it]",
     "output_type": "stream"
    },
    {
     "name": "stdout",
     "text": "episode: 25/[0, 1, 2, 3, 4, 5, 6, 7, 8, 9, 10, 11, 12, 13, 14, 15, 16, 17, 18, 19, 20, 21, 22, 23, 24, 25], score: 18.0, epsilon: 0.31\n",
     "output_type": "stream"
    },
    {
     "name": "stderr",
     "text": " 27%|██▋       | 27/101 [41:27<1:59:35, 96.97s/it] ",
     "output_type": "stream"
    },
    {
     "name": "stdout",
     "text": "episode: 26/[0, 1, 2, 3, 4, 5, 6, 7, 8, 9, 10, 11, 12, 13, 14, 15, 16, 17, 18, 19, 20, 21, 22, 23, 24, 25, 26], score: 10.0, epsilon: 0.29\n",
     "output_type": "stream"
    },
    {
     "name": "stderr",
     "text": " 28%|██▊       | 28/101 [42:49<1:52:39, 92.59s/it]",
     "output_type": "stream"
    },
    {
     "name": "stdout",
     "text": "episode: 27/[0, 1, 2, 3, 4, 5, 6, 7, 8, 9, 10, 11, 12, 13, 14, 15, 16, 17, 18, 19, 20, 21, 22, 23, 24, 25, 26, 27], score: 14.0, epsilon: 0.28\n",
     "output_type": "stream"
    },
    {
     "name": "stderr",
     "text": " 29%|██▊       | 29/101 [44:04<1:44:56, 87.45s/it]",
     "output_type": "stream"
    },
    {
     "name": "stdout",
     "text": "episode: 28/[0, 1, 2, 3, 4, 5, 6, 7, 8, 9, 10, 11, 12, 13, 14, 15, 16, 17, 18, 19, 20, 21, 22, 23, 24, 25, 26, 27, 28], score: 9.0, epsilon: 0.27\n",
     "output_type": "stream"
    },
    {
     "name": "stderr",
     "text": " 30%|██▉       | 30/101 [46:22<2:01:06, 102.34s/it]",
     "output_type": "stream"
    },
    {
     "name": "stdout",
     "text": "episode: 29/[0, 1, 2, 3, 4, 5, 6, 7, 8, 9, 10, 11, 12, 13, 14, 15, 16, 17, 18, 19, 20, 21, 22, 23, 24, 25, 26, 27, 28, 29], score: 35.0, epsilon: 0.26\n",
     "output_type": "stream"
    },
    {
     "name": "stderr",
     "text": " 31%|███       | 31/101 [48:08<2:00:39, 103.42s/it]",
     "output_type": "stream"
    },
    {
     "name": "stdout",
     "text": "episode: 30/[0, 1, 2, 3, 4, 5, 6, 7, 8, 9, 10, 11, 12, 13, 14, 15, 16, 17, 18, 19, 20, 21, 22, 23, 24, 25, 26, 27, 28, 29, 30], score: 20.0, epsilon: 0.24\n",
     "output_type": "stream"
    },
    {
     "name": "stderr",
     "text": " 32%|███▏      | 32/101 [49:34<1:52:55, 98.20s/it] ",
     "output_type": "stream"
    },
    {
     "name": "stdout",
     "text": "episode: 31/[0, 1, 2, 3, 4, 5, 6, 7, 8, 9, 10, 11, 12, 13, 14, 15, 16, 17, 18, 19, 20, 21, 22, 23, 24, 25, 26, 27, 28, 29, 30, 31], score: 14.0, epsilon: 0.24\n",
     "output_type": "stream"
    },
    {
     "name": "stderr",
     "text": " 33%|███▎      | 33/101 [51:23<1:55:06, 101.57s/it]",
     "output_type": "stream"
    },
    {
     "name": "stdout",
     "text": "episode: 32/[0, 1, 2, 3, 4, 5, 6, 7, 8, 9, 10, 11, 12, 13, 14, 15, 16, 17, 18, 19, 20, 21, 22, 23, 24, 25, 26, 27, 28, 29, 30, 31, 32], score: 29.0, epsilon: 0.22\n",
     "output_type": "stream"
    },
    {
     "name": "stderr",
     "text": " 34%|███▎      | 34/101 [53:00<1:51:57, 100.26s/it]",
     "output_type": "stream"
    },
    {
     "name": "stdout",
     "text": "episode: 33/[0, 1, 2, 3, 4, 5, 6, 7, 8, 9, 10, 11, 12, 13, 14, 15, 16, 17, 18, 19, 20, 21, 22, 23, 24, 25, 26, 27, 28, 29, 30, 31, 32, 33], score: 27.0, epsilon: 0.21\n",
     "output_type": "stream"
    },
    {
     "name": "stderr",
     "text": " 35%|███▍      | 35/101 [55:20<2:03:25, 112.20s/it]",
     "output_type": "stream"
    },
    {
     "name": "stdout",
     "text": "episode: 34/[0, 1, 2, 3, 4, 5, 6, 7, 8, 9, 10, 11, 12, 13, 14, 15, 16, 17, 18, 19, 20, 21, 22, 23, 24, 25, 26, 27, 28, 29, 30, 31, 32, 33, 34], score: 36.0, epsilon: 0.2\n",
     "output_type": "stream"
    },
    {
     "name": "stderr",
     "text": " 36%|███▌      | 36/101 [56:45<1:52:41, 104.02s/it]",
     "output_type": "stream"
    },
    {
     "name": "stdout",
     "text": "episode: 35/[0, 1, 2, 3, 4, 5, 6, 7, 8, 9, 10, 11, 12, 13, 14, 15, 16, 17, 18, 19, 20, 21, 22, 23, 24, 25, 26, 27, 28, 29, 30, 31, 32, 33, 34, 35], score: 12.0, epsilon: 0.19\n",
     "output_type": "stream"
    },
    {
     "name": "stderr",
     "text": " 37%|███▋      | 37/101 [58:33<1:52:08, 105.14s/it]",
     "output_type": "stream"
    },
    {
     "name": "stdout",
     "text": "episode: 36/[0, 1, 2, 3, 4, 5, 6, 7, 8, 9, 10, 11, 12, 13, 14, 15, 16, 17, 18, 19, 20, 21, 22, 23, 24, 25, 26, 27, 28, 29, 30, 31, 32, 33, 34, 35, 36], score: 26.0, epsilon: 0.19\n",
     "output_type": "stream"
    },
    {
     "name": "stderr",
     "text": " 38%|███▊      | 38/101 [1:00:02<1:45:25, 100.40s/it]",
     "output_type": "stream"
    },
    {
     "name": "stdout",
     "text": "episode: 37/[0, 1, 2, 3, 4, 5, 6, 7, 8, 9, 10, 11, 12, 13, 14, 15, 16, 17, 18, 19, 20, 21, 22, 23, 24, 25, 26, 27, 28, 29, 30, 31, 32, 33, 34, 35, 36, 37], score: 17.0, epsilon: 0.18\n",
     "output_type": "stream"
    },
    {
     "name": "stderr",
     "text": " 39%|███▊      | 39/101 [1:03:27<2:16:07, 131.73s/it]",
     "output_type": "stream"
    },
    {
     "name": "stdout",
     "text": "episode: 38/[0, 1, 2, 3, 4, 5, 6, 7, 8, 9, 10, 11, 12, 13, 14, 15, 16, 17, 18, 19, 20, 21, 22, 23, 24, 25, 26, 27, 28, 29, 30, 31, 32, 33, 34, 35, 36, 37, 38], score: 33.0, epsilon: 0.16\n",
     "output_type": "stream"
    },
    {
     "name": "stderr",
     "text": " 40%|███▉      | 40/101 [1:05:09<2:04:59, 122.94s/it]",
     "output_type": "stream"
    },
    {
     "name": "stdout",
     "text": "episode: 39/[0, 1, 2, 3, 4, 5, 6, 7, 8, 9, 10, 11, 12, 13, 14, 15, 16, 17, 18, 19, 20, 21, 22, 23, 24, 25, 26, 27, 28, 29, 30, 31, 32, 33, 34, 35, 36, 37, 38, 39], score: 18.0, epsilon: 0.16\n",
     "output_type": "stream"
    },
    {
     "name": "stderr",
     "text": " 41%|████      | 41/101 [1:06:48<1:55:30, 115.51s/it]",
     "output_type": "stream"
    },
    {
     "name": "stdout",
     "text": "episode: 40/[0, 1, 2, 3, 4, 5, 6, 7, 8, 9, 10, 11, 12, 13, 14, 15, 16, 17, 18, 19, 20, 21, 22, 23, 24, 25, 26, 27, 28, 29, 30, 31, 32, 33, 34, 35, 36, 37, 38, 39, 40], score: 16.0, epsilon: 0.15\n",
     "output_type": "stream"
    },
    {
     "name": "stderr",
     "text": " 42%|████▏     | 42/101 [1:08:14<1:45:01, 106.80s/it]",
     "output_type": "stream"
    },
    {
     "name": "stdout",
     "text": "episode: 41/[0, 1, 2, 3, 4, 5, 6, 7, 8, 9, 10, 11, 12, 13, 14, 15, 16, 17, 18, 19, 20, 21, 22, 23, 24, 25, 26, 27, 28, 29, 30, 31, 32, 33, 34, 35, 36, 37, 38, 39, 40, 41], score: 15.0, epsilon: 0.14\n",
     "output_type": "stream"
    },
    {
     "name": "stderr",
     "text": " 43%|████▎     | 43/101 [1:10:18<1:48:12, 111.94s/it]",
     "output_type": "stream"
    },
    {
     "name": "stdout",
     "text": "episode: 42/[0, 1, 2, 3, 4, 5, 6, 7, 8, 9, 10, 11, 12, 13, 14, 15, 16, 17, 18, 19, 20, 21, 22, 23, 24, 25, 26, 27, 28, 29, 30, 31, 32, 33, 34, 35, 36, 37, 38, 39, 40, 41, 42], score: 19.0, epsilon: 0.14\n",
     "output_type": "stream"
    },
    {
     "name": "stderr",
     "text": " 44%|████▎     | 44/101 [1:12:03<1:44:26, 109.93s/it]",
     "output_type": "stream"
    },
    {
     "name": "stdout",
     "text": "episode: 43/[0, 1, 2, 3, 4, 5, 6, 7, 8, 9, 10, 11, 12, 13, 14, 15, 16, 17, 18, 19, 20, 21, 22, 23, 24, 25, 26, 27, 28, 29, 30, 31, 32, 33, 34, 35, 36, 37, 38, 39, 40, 41, 42, 43], score: 24.0, epsilon: 0.13\n",
     "output_type": "stream"
    },
    {
     "name": "stderr",
     "text": " 45%|████▍     | 45/101 [1:13:25<1:34:38, 101.41s/it]",
     "output_type": "stream"
    },
    {
     "name": "stdout",
     "text": "episode: 44/[0, 1, 2, 3, 4, 5, 6, 7, 8, 9, 10, 11, 12, 13, 14, 15, 16, 17, 18, 19, 20, 21, 22, 23, 24, 25, 26, 27, 28, 29, 30, 31, 32, 33, 34, 35, 36, 37, 38, 39, 40, 41, 42, 43, 44], score: 8.0, epsilon: 0.12\n",
     "output_type": "stream"
    },
    {
     "name": "stderr",
     "text": " 46%|████▌     | 46/101 [1:15:13<1:34:42, 103.32s/it]",
     "output_type": "stream"
    },
    {
     "name": "stdout",
     "text": "episode: 45/[0, 1, 2, 3, 4, 5, 6, 7, 8, 9, 10, 11, 12, 13, 14, 15, 16, 17, 18, 19, 20, 21, 22, 23, 24, 25, 26, 27, 28, 29, 30, 31, 32, 33, 34, 35, 36, 37, 38, 39, 40, 41, 42, 43, 44, 45], score: 27.0, epsilon: 0.12\n",
     "output_type": "stream"
    },
    {
     "name": "stderr",
     "text": " 47%|████▋     | 47/101 [1:17:36<1:43:48, 115.35s/it]",
     "output_type": "stream"
    },
    {
     "name": "stdout",
     "text": "episode: 46/[0, 1, 2, 3, 4, 5, 6, 7, 8, 9, 10, 11, 12, 13, 14, 15, 16, 17, 18, 19, 20, 21, 22, 23, 24, 25, 26, 27, 28, 29, 30, 31, 32, 33, 34, 35, 36, 37, 38, 39, 40, 41, 42, 43, 44, 45, 46], score: 37.0, epsilon: 0.11\n",
     "output_type": "stream"
    },
    {
     "name": "stderr",
     "text": " 48%|████▊     | 48/101 [1:18:55<1:32:10, 104.35s/it]",
     "output_type": "stream"
    },
    {
     "name": "stdout",
     "text": "episode: 47/[0, 1, 2, 3, 4, 5, 6, 7, 8, 9, 10, 11, 12, 13, 14, 15, 16, 17, 18, 19, 20, 21, 22, 23, 24, 25, 26, 27, 28, 29, 30, 31, 32, 33, 34, 35, 36, 37, 38, 39, 40, 41, 42, 43, 44, 45, 46, 47], score: 10.0, epsilon: 0.11\n",
     "output_type": "stream"
    },
    {
     "name": "stderr",
     "text": " 49%|████▊     | 49/101 [1:21:06<1:37:24, 112.39s/it]",
     "output_type": "stream"
    },
    {
     "name": "stdout",
     "text": "episode: 48/[0, 1, 2, 3, 4, 5, 6, 7, 8, 9, 10, 11, 12, 13, 14, 15, 16, 17, 18, 19, 20, 21, 22, 23, 24, 25, 26, 27, 28, 29, 30, 31, 32, 33, 34, 35, 36, 37, 38, 39, 40, 41, 42, 43, 44, 45, 46, 47, 48], score: 38.0, epsilon: 0.1\n",
     "output_type": "stream"
    },
    {
     "name": "stderr",
     "text": " 50%|████▉     | 50/101 [1:22:30<1:28:17, 103.87s/it]",
     "output_type": "stream"
    },
    {
     "name": "stdout",
     "text": "episode: 49/[0, 1, 2, 3, 4, 5, 6, 7, 8, 9, 10, 11, 12, 13, 14, 15, 16, 17, 18, 19, 20, 21, 22, 23, 24, 25, 26, 27, 28, 29, 30, 31, 32, 33, 34, 35, 36, 37, 38, 39, 40, 41, 42, 43, 44, 45, 46, 47, 48, 49], score: 12.0, epsilon: 0.1\n",
     "output_type": "stream"
    },
    {
     "name": "stderr",
     "text": " 50%|█████     | 51/101 [1:23:56<1:22:06, 98.53s/it] ",
     "output_type": "stream"
    },
    {
     "name": "stdout",
     "text": "episode: 50/[0, 1, 2, 3, 4, 5, 6, 7, 8, 9, 10, 11, 12, 13, 14, 15, 16, 17, 18, 19, 20, 21, 22, 23, 24, 25, 26, 27, 28, 29, 30, 31, 32, 33, 34, 35, 36, 37, 38, 39, 40, 41, 42, 43, 44, 45, 46, 47, 48, 49, 50], score: 19.0, epsilon: 0.1\nModel saved\n",
     "output_type": "stream"
    },
    {
     "name": "stderr",
     "text": " 51%|█████▏    | 52/101 [1:25:26<1:18:22, 95.97s/it]",
     "output_type": "stream"
    },
    {
     "name": "stdout",
     "text": "episode: 51/[0, 1, 2, 3, 4, 5, 6, 7, 8, 9, 10, 11, 12, 13, 14, 15, 16, 17, 18, 19, 20, 21, 22, 23, 24, 25, 26, 27, 28, 29, 30, 31, 32, 33, 34, 35, 36, 37, 38, 39, 40, 41, 42, 43, 44, 45, 46, 47, 48, 49, 50, 51], score: 23.0, epsilon: 0.1\n",
     "output_type": "stream"
    },
    {
     "name": "stderr",
     "text": " 52%|█████▏    | 53/101 [1:26:50<1:13:55, 92.40s/it]",
     "output_type": "stream"
    },
    {
     "name": "stdout",
     "text": "episode: 52/[0, 1, 2, 3, 4, 5, 6, 7, 8, 9, 10, 11, 12, 13, 14, 15, 16, 17, 18, 19, 20, 21, 22, 23, 24, 25, 26, 27, 28, 29, 30, 31, 32, 33, 34, 35, 36, 37, 38, 39, 40, 41, 42, 43, 44, 45, 46, 47, 48, 49, 50, 51, 52], score: 12.0, epsilon: 0.1\n",
     "output_type": "stream"
    },
    {
     "name": "stderr",
     "text": " 53%|█████▎    | 54/101 [1:28:11<1:09:44, 89.04s/it]",
     "output_type": "stream"
    },
    {
     "name": "stdout",
     "text": "episode: 53/[0, 1, 2, 3, 4, 5, 6, 7, 8, 9, 10, 11, 12, 13, 14, 15, 16, 17, 18, 19, 20, 21, 22, 23, 24, 25, 26, 27, 28, 29, 30, 31, 32, 33, 34, 35, 36, 37, 38, 39, 40, 41, 42, 43, 44, 45, 46, 47, 48, 49, 50, 51, 52, 53], score: 17.0, epsilon: 0.1\n",
     "output_type": "stream"
    },
    {
     "name": "stderr",
     "text": " 54%|█████▍    | 55/101 [1:29:40<1:08:11, 88.95s/it]",
     "output_type": "stream"
    },
    {
     "name": "stdout",
     "text": "episode: 54/[0, 1, 2, 3, 4, 5, 6, 7, 8, 9, 10, 11, 12, 13, 14, 15, 16, 17, 18, 19, 20, 21, 22, 23, 24, 25, 26, 27, 28, 29, 30, 31, 32, 33, 34, 35, 36, 37, 38, 39, 40, 41, 42, 43, 44, 45, 46, 47, 48, 49, 50, 51, 52, 53, 54], score: 13.0, epsilon: 0.1\n",
     "output_type": "stream"
    },
    {
     "name": "stderr",
     "text": " 55%|█████▌    | 56/101 [1:31:21<1:09:27, 92.60s/it]",
     "output_type": "stream"
    },
    {
     "name": "stdout",
     "text": "episode: 55/[0, 1, 2, 3, 4, 5, 6, 7, 8, 9, 10, 11, 12, 13, 14, 15, 16, 17, 18, 19, 20, 21, 22, 23, 24, 25, 26, 27, 28, 29, 30, 31, 32, 33, 34, 35, 36, 37, 38, 39, 40, 41, 42, 43, 44, 45, 46, 47, 48, 49, 50, 51, 52, 53, 54, 55], score: 22.0, epsilon: 0.1\n",
     "output_type": "stream"
    },
    {
     "name": "stderr",
     "text": " 56%|█████▋    | 57/101 [1:32:47<1:06:25, 90.59s/it]",
     "output_type": "stream"
    },
    {
     "name": "stdout",
     "text": "episode: 56/[0, 1, 2, 3, 4, 5, 6, 7, 8, 9, 10, 11, 12, 13, 14, 15, 16, 17, 18, 19, 20, 21, 22, 23, 24, 25, 26, 27, 28, 29, 30, 31, 32, 33, 34, 35, 36, 37, 38, 39, 40, 41, 42, 43, 44, 45, 46, 47, 48, 49, 50, 51, 52, 53, 54, 55, 56], score: 20.0, epsilon: 0.1\n",
     "output_type": "stream"
    },
    {
     "name": "stderr",
     "text": " 57%|█████▋    | 58/101 [1:34:20<1:05:29, 91.38s/it]",
     "output_type": "stream"
    },
    {
     "name": "stdout",
     "text": "episode: 57/[0, 1, 2, 3, 4, 5, 6, 7, 8, 9, 10, 11, 12, 13, 14, 15, 16, 17, 18, 19, 20, 21, 22, 23, 24, 25, 26, 27, 28, 29, 30, 31, 32, 33, 34, 35, 36, 37, 38, 39, 40, 41, 42, 43, 44, 45, 46, 47, 48, 49, 50, 51, 52, 53, 54, 55, 56, 57], score: 14.0, epsilon: 0.1\n",
     "output_type": "stream"
    },
    {
     "name": "stderr",
     "text": " 58%|█████▊    | 59/101 [1:35:51<1:03:50, 91.21s/it]",
     "output_type": "stream"
    },
    {
     "name": "stdout",
     "text": "episode: 58/[0, 1, 2, 3, 4, 5, 6, 7, 8, 9, 10, 11, 12, 13, 14, 15, 16, 17, 18, 19, 20, 21, 22, 23, 24, 25, 26, 27, 28, 29, 30, 31, 32, 33, 34, 35, 36, 37, 38, 39, 40, 41, 42, 43, 44, 45, 46, 47, 48, 49, 50, 51, 52, 53, 54, 55, 56, 57, 58], score: 10.0, epsilon: 0.1\n",
     "output_type": "stream"
    },
    {
     "name": "stderr",
     "text": " 59%|█████▉    | 60/101 [1:37:18<1:01:29, 89.98s/it]",
     "output_type": "stream"
    },
    {
     "name": "stdout",
     "text": "episode: 59/[0, 1, 2, 3, 4, 5, 6, 7, 8, 9, 10, 11, 12, 13, 14, 15, 16, 17, 18, 19, 20, 21, 22, 23, 24, 25, 26, 27, 28, 29, 30, 31, 32, 33, 34, 35, 36, 37, 38, 39, 40, 41, 42, 43, 44, 45, 46, 47, 48, 49, 50, 51, 52, 53, 54, 55, 56, 57, 58, 59], score: 6.0, epsilon: 0.1\n",
     "output_type": "stream"
    },
    {
     "name": "stderr",
     "text": " 60%|██████    | 61/101 [1:38:45<59:20, 89.00s/it]  ",
     "output_type": "stream"
    },
    {
     "name": "stdout",
     "text": "episode: 60/[0, 1, 2, 3, 4, 5, 6, 7, 8, 9, 10, 11, 12, 13, 14, 15, 16, 17, 18, 19, 20, 21, 22, 23, 24, 25, 26, 27, 28, 29, 30, 31, 32, 33, 34, 35, 36, 37, 38, 39, 40, 41, 42, 43, 44, 45, 46, 47, 48, 49, 50, 51, 52, 53, 54, 55, 56, 57, 58, 59, 60], score: 10.0, epsilon: 0.1\n",
     "output_type": "stream"
    },
    {
     "name": "stderr",
     "text": " 61%|██████▏   | 62/101 [1:40:14<57:49, 88.95s/it]",
     "output_type": "stream"
    },
    {
     "name": "stdout",
     "text": "episode: 61/[0, 1, 2, 3, 4, 5, 6, 7, 8, 9, 10, 11, 12, 13, 14, 15, 16, 17, 18, 19, 20, 21, 22, 23, 24, 25, 26, 27, 28, 29, 30, 31, 32, 33, 34, 35, 36, 37, 38, 39, 40, 41, 42, 43, 44, 45, 46, 47, 48, 49, 50, 51, 52, 53, 54, 55, 56, 57, 58, 59, 60, 61], score: 6.0, epsilon: 0.1\n",
     "output_type": "stream"
    },
    {
     "name": "stderr",
     "text": " 62%|██████▏   | 63/101 [1:41:35<54:52, 86.65s/it]",
     "output_type": "stream"
    },
    {
     "name": "stdout",
     "text": "episode: 62/[0, 1, 2, 3, 4, 5, 6, 7, 8, 9, 10, 11, 12, 13, 14, 15, 16, 17, 18, 19, 20, 21, 22, 23, 24, 25, 26, 27, 28, 29, 30, 31, 32, 33, 34, 35, 36, 37, 38, 39, 40, 41, 42, 43, 44, 45, 46, 47, 48, 49, 50, 51, 52, 53, 54, 55, 56, 57, 58, 59, 60, 61, 62], score: 9.0, epsilon: 0.1\n",
     "output_type": "stream"
    },
    {
     "name": "stderr",
     "text": " 63%|██████▎   | 64/101 [1:43:14<55:48, 90.49s/it]",
     "output_type": "stream"
    },
    {
     "name": "stdout",
     "text": "episode: 63/[0, 1, 2, 3, 4, 5, 6, 7, 8, 9, 10, 11, 12, 13, 14, 15, 16, 17, 18, 19, 20, 21, 22, 23, 24, 25, 26, 27, 28, 29, 30, 31, 32, 33, 34, 35, 36, 37, 38, 39, 40, 41, 42, 43, 44, 45, 46, 47, 48, 49, 50, 51, 52, 53, 54, 55, 56, 57, 58, 59, 60, 61, 62, 63], score: 11.0, epsilon: 0.1\n",
     "output_type": "stream"
    },
    {
     "name": "stderr",
     "text": " 64%|██████▍   | 65/101 [1:44:45<54:14, 90.41s/it]",
     "output_type": "stream"
    },
    {
     "name": "stdout",
     "text": "episode: 64/[0, 1, 2, 3, 4, 5, 6, 7, 8, 9, 10, 11, 12, 13, 14, 15, 16, 17, 18, 19, 20, 21, 22, 23, 24, 25, 26, 27, 28, 29, 30, 31, 32, 33, 34, 35, 36, 37, 38, 39, 40, 41, 42, 43, 44, 45, 46, 47, 48, 49, 50, 51, 52, 53, 54, 55, 56, 57, 58, 59, 60, 61, 62, 63, 64], score: 16.0, epsilon: 0.1\n",
     "output_type": "stream"
    },
    {
     "name": "stderr",
     "text": " 65%|██████▌   | 66/101 [1:46:05<51:03, 87.53s/it]",
     "output_type": "stream"
    },
    {
     "name": "stdout",
     "text": "episode: 65/[0, 1, 2, 3, 4, 5, 6, 7, 8, 9, 10, 11, 12, 13, 14, 15, 16, 17, 18, 19, 20, 21, 22, 23, 24, 25, 26, 27, 28, 29, 30, 31, 32, 33, 34, 35, 36, 37, 38, 39, 40, 41, 42, 43, 44, 45, 46, 47, 48, 49, 50, 51, 52, 53, 54, 55, 56, 57, 58, 59, 60, 61, 62, 63, 64, 65], score: 4.0, epsilon: 0.1\n",
     "output_type": "stream"
    },
    {
     "name": "stderr",
     "text": " 66%|██████▋   | 67/101 [1:47:31<49:20, 87.08s/it]",
     "output_type": "stream"
    },
    {
     "name": "stdout",
     "text": "episode: 66/[0, 1, 2, 3, 4, 5, 6, 7, 8, 9, 10, 11, 12, 13, 14, 15, 16, 17, 18, 19, 20, 21, 22, 23, 24, 25, 26, 27, 28, 29, 30, 31, 32, 33, 34, 35, 36, 37, 38, 39, 40, 41, 42, 43, 44, 45, 46, 47, 48, 49, 50, 51, 52, 53, 54, 55, 56, 57, 58, 59, 60, 61, 62, 63, 64, 65, 66], score: 6.0, epsilon: 0.1\n",
     "output_type": "stream"
    },
    {
     "name": "stderr",
     "text": " 67%|██████▋   | 68/101 [1:48:54<47:12, 85.83s/it]",
     "output_type": "stream"
    },
    {
     "name": "stdout",
     "text": "episode: 67/[0, 1, 2, 3, 4, 5, 6, 7, 8, 9, 10, 11, 12, 13, 14, 15, 16, 17, 18, 19, 20, 21, 22, 23, 24, 25, 26, 27, 28, 29, 30, 31, 32, 33, 34, 35, 36, 37, 38, 39, 40, 41, 42, 43, 44, 45, 46, 47, 48, 49, 50, 51, 52, 53, 54, 55, 56, 57, 58, 59, 60, 61, 62, 63, 64, 65, 66, 67], score: 5.0, epsilon: 0.1\n",
     "output_type": "stream"
    },
    {
     "name": "stderr",
     "text": " 68%|██████▊   | 69/101 [1:50:41<49:09, 92.16s/it]",
     "output_type": "stream"
    },
    {
     "name": "stdout",
     "text": "episode: 68/[0, 1, 2, 3, 4, 5, 6, 7, 8, 9, 10, 11, 12, 13, 14, 15, 16, 17, 18, 19, 20, 21, 22, 23, 24, 25, 26, 27, 28, 29, 30, 31, 32, 33, 34, 35, 36, 37, 38, 39, 40, 41, 42, 43, 44, 45, 46, 47, 48, 49, 50, 51, 52, 53, 54, 55, 56, 57, 58, 59, 60, 61, 62, 63, 64, 65, 66, 67, 68], score: 20.0, epsilon: 0.1\n",
     "output_type": "stream"
    },
    {
     "name": "stderr",
     "text": " 69%|██████▉   | 70/101 [1:52:07<46:33, 90.11s/it]",
     "output_type": "stream"
    },
    {
     "name": "stdout",
     "text": "episode: 69/[0, 1, 2, 3, 4, 5, 6, 7, 8, 9, 10, 11, 12, 13, 14, 15, 16, 17, 18, 19, 20, 21, 22, 23, 24, 25, 26, 27, 28, 29, 30, 31, 32, 33, 34, 35, 36, 37, 38, 39, 40, 41, 42, 43, 44, 45, 46, 47, 48, 49, 50, 51, 52, 53, 54, 55, 56, 57, 58, 59, 60, 61, 62, 63, 64, 65, 66, 67, 68, 69], score: 15.0, epsilon: 0.1\n",
     "output_type": "stream"
    },
    {
     "name": "stderr",
     "text": " 70%|███████   | 71/101 [1:53:22<42:51, 85.72s/it]",
     "output_type": "stream"
    },
    {
     "name": "stdout",
     "text": "episode: 70/[0, 1, 2, 3, 4, 5, 6, 7, 8, 9, 10, 11, 12, 13, 14, 15, 16, 17, 18, 19, 20, 21, 22, 23, 24, 25, 26, 27, 28, 29, 30, 31, 32, 33, 34, 35, 36, 37, 38, 39, 40, 41, 42, 43, 44, 45, 46, 47, 48, 49, 50, 51, 52, 53, 54, 55, 56, 57, 58, 59, 60, 61, 62, 63, 64, 65, 66, 67, 68, 69, 70], score: 5.0, epsilon: 0.1\n",
     "output_type": "stream"
    },
    {
     "name": "stderr",
     "text": " 71%|███████▏  | 72/101 [1:54:46<41:10, 85.18s/it]",
     "output_type": "stream"
    },
    {
     "name": "stdout",
     "text": "episode: 71/[0, 1, 2, 3, 4, 5, 6, 7, 8, 9, 10, 11, 12, 13, 14, 15, 16, 17, 18, 19, 20, 21, 22, 23, 24, 25, 26, 27, 28, 29, 30, 31, 32, 33, 34, 35, 36, 37, 38, 39, 40, 41, 42, 43, 44, 45, 46, 47, 48, 49, 50, 51, 52, 53, 54, 55, 56, 57, 58, 59, 60, 61, 62, 63, 64, 65, 66, 67, 68, 69, 70, 71], score: 5.0, epsilon: 0.1\n",
     "output_type": "stream"
    },
    {
     "name": "stderr",
     "text": " 72%|███████▏  | 73/101 [1:56:14<40:11, 86.13s/it]",
     "output_type": "stream"
    },
    {
     "name": "stdout",
     "text": "episode: 72/[0, 1, 2, 3, 4, 5, 6, 7, 8, 9, 10, 11, 12, 13, 14, 15, 16, 17, 18, 19, 20, 21, 22, 23, 24, 25, 26, 27, 28, 29, 30, 31, 32, 33, 34, 35, 36, 37, 38, 39, 40, 41, 42, 43, 44, 45, 46, 47, 48, 49, 50, 51, 52, 53, 54, 55, 56, 57, 58, 59, 60, 61, 62, 63, 64, 65, 66, 67, 68, 69, 70, 71, 72], score: 14.0, epsilon: 0.1\n",
     "output_type": "stream"
    },
    {
     "name": "stderr",
     "text": " 73%|███████▎  | 74/101 [1:57:43<39:09, 87.01s/it]",
     "output_type": "stream"
    },
    {
     "name": "stdout",
     "text": "episode: 73/[0, 1, 2, 3, 4, 5, 6, 7, 8, 9, 10, 11, 12, 13, 14, 15, 16, 17, 18, 19, 20, 21, 22, 23, 24, 25, 26, 27, 28, 29, 30, 31, 32, 33, 34, 35, 36, 37, 38, 39, 40, 41, 42, 43, 44, 45, 46, 47, 48, 49, 50, 51, 52, 53, 54, 55, 56, 57, 58, 59, 60, 61, 62, 63, 64, 65, 66, 67, 68, 69, 70, 71, 72, 73], score: 5.0, epsilon: 0.1\n",
     "output_type": "stream"
    },
    {
     "name": "stderr",
     "text": " 74%|███████▍  | 75/101 [1:59:13<37:58, 87.65s/it]",
     "output_type": "stream"
    },
    {
     "name": "stdout",
     "text": "episode: 74/[0, 1, 2, 3, 4, 5, 6, 7, 8, 9, 10, 11, 12, 13, 14, 15, 16, 17, 18, 19, 20, 21, 22, 23, 24, 25, 26, 27, 28, 29, 30, 31, 32, 33, 34, 35, 36, 37, 38, 39, 40, 41, 42, 43, 44, 45, 46, 47, 48, 49, 50, 51, 52, 53, 54, 55, 56, 57, 58, 59, 60, 61, 62, 63, 64, 65, 66, 67, 68, 69, 70, 71, 72, 73, 74], score: 11.0, epsilon: 0.1\n",
     "output_type": "stream"
    },
    {
     "name": "stderr",
     "text": " 75%|███████▌  | 76/101 [2:00:35<35:53, 86.16s/it]",
     "output_type": "stream"
    },
    {
     "name": "stdout",
     "text": "episode: 75/[0, 1, 2, 3, 4, 5, 6, 7, 8, 9, 10, 11, 12, 13, 14, 15, 16, 17, 18, 19, 20, 21, 22, 23, 24, 25, 26, 27, 28, 29, 30, 31, 32, 33, 34, 35, 36, 37, 38, 39, 40, 41, 42, 43, 44, 45, 46, 47, 48, 49, 50, 51, 52, 53, 54, 55, 56, 57, 58, 59, 60, 61, 62, 63, 64, 65, 66, 67, 68, 69, 70, 71, 72, 73, 74, 75], score: 5.0, epsilon: 0.1\n",
     "output_type": "stream"
    },
    {
     "name": "stderr",
     "text": " 76%|███████▌  | 77/101 [2:02:14<35:55, 89.82s/it]",
     "output_type": "stream"
    },
    {
     "name": "stdout",
     "text": "episode: 76/[0, 1, 2, 3, 4, 5, 6, 7, 8, 9, 10, 11, 12, 13, 14, 15, 16, 17, 18, 19, 20, 21, 22, 23, 24, 25, 26, 27, 28, 29, 30, 31, 32, 33, 34, 35, 36, 37, 38, 39, 40, 41, 42, 43, 44, 45, 46, 47, 48, 49, 50, 51, 52, 53, 54, 55, 56, 57, 58, 59, 60, 61, 62, 63, 64, 65, 66, 67, 68, 69, 70, 71, 72, 73, 74, 75, 76], score: 15.0, epsilon: 0.1\n",
     "output_type": "stream"
    },
    {
     "name": "stderr",
     "text": " 77%|███████▋  | 78/101 [2:03:55<35:48, 93.42s/it]",
     "output_type": "stream"
    },
    {
     "name": "stdout",
     "text": "episode: 77/[0, 1, 2, 3, 4, 5, 6, 7, 8, 9, 10, 11, 12, 13, 14, 15, 16, 17, 18, 19, 20, 21, 22, 23, 24, 25, 26, 27, 28, 29, 30, 31, 32, 33, 34, 35, 36, 37, 38, 39, 40, 41, 42, 43, 44, 45, 46, 47, 48, 49, 50, 51, 52, 53, 54, 55, 56, 57, 58, 59, 60, 61, 62, 63, 64, 65, 66, 67, 68, 69, 70, 71, 72, 73, 74, 75, 76, 77], score: 25.0, epsilon: 0.1\n",
     "output_type": "stream"
    },
    {
     "name": "stderr",
     "text": " 78%|███████▊  | 79/101 [2:05:17<32:57, 89.89s/it]",
     "output_type": "stream"
    },
    {
     "name": "stdout",
     "text": "episode: 78/[0, 1, 2, 3, 4, 5, 6, 7, 8, 9, 10, 11, 12, 13, 14, 15, 16, 17, 18, 19, 20, 21, 22, 23, 24, 25, 26, 27, 28, 29, 30, 31, 32, 33, 34, 35, 36, 37, 38, 39, 40, 41, 42, 43, 44, 45, 46, 47, 48, 49, 50, 51, 52, 53, 54, 55, 56, 57, 58, 59, 60, 61, 62, 63, 64, 65, 66, 67, 68, 69, 70, 71, 72, 73, 74, 75, 76, 77, 78], score: 5.0, epsilon: 0.1\n",
     "output_type": "stream"
    },
    {
     "name": "stderr",
     "text": " 79%|███████▉  | 80/101 [2:06:36<30:21, 86.73s/it]",
     "output_type": "stream"
    },
    {
     "name": "stdout",
     "text": "episode: 79/[0, 1, 2, 3, 4, 5, 6, 7, 8, 9, 10, 11, 12, 13, 14, 15, 16, 17, 18, 19, 20, 21, 22, 23, 24, 25, 26, 27, 28, 29, 30, 31, 32, 33, 34, 35, 36, 37, 38, 39, 40, 41, 42, 43, 44, 45, 46, 47, 48, 49, 50, 51, 52, 53, 54, 55, 56, 57, 58, 59, 60, 61, 62, 63, 64, 65, 66, 67, 68, 69, 70, 71, 72, 73, 74, 75, 76, 77, 78, 79], score: 7.0, epsilon: 0.1\n",
     "output_type": "stream"
    },
    {
     "name": "stderr",
     "text": " 80%|████████  | 81/101 [2:08:03<28:51, 86.55s/it]",
     "output_type": "stream"
    },
    {
     "name": "stdout",
     "text": "episode: 80/[0, 1, 2, 3, 4, 5, 6, 7, 8, 9, 10, 11, 12, 13, 14, 15, 16, 17, 18, 19, 20, 21, 22, 23, 24, 25, 26, 27, 28, 29, 30, 31, 32, 33, 34, 35, 36, 37, 38, 39, 40, 41, 42, 43, 44, 45, 46, 47, 48, 49, 50, 51, 52, 53, 54, 55, 56, 57, 58, 59, 60, 61, 62, 63, 64, 65, 66, 67, 68, 69, 70, 71, 72, 73, 74, 75, 76, 77, 78, 79, 80], score: 10.0, epsilon: 0.1\n",
     "output_type": "stream"
    },
    {
     "name": "stderr",
     "text": " 81%|████████  | 82/101 [2:09:24<26:53, 84.90s/it]",
     "output_type": "stream"
    },
    {
     "name": "stdout",
     "text": "episode: 81/[0, 1, 2, 3, 4, 5, 6, 7, 8, 9, 10, 11, 12, 13, 14, 15, 16, 17, 18, 19, 20, 21, 22, 23, 24, 25, 26, 27, 28, 29, 30, 31, 32, 33, 34, 35, 36, 37, 38, 39, 40, 41, 42, 43, 44, 45, 46, 47, 48, 49, 50, 51, 52, 53, 54, 55, 56, 57, 58, 59, 60, 61, 62, 63, 64, 65, 66, 67, 68, 69, 70, 71, 72, 73, 74, 75, 76, 77, 78, 79, 80, 81], score: 6.0, epsilon: 0.1\n",
     "output_type": "stream"
    },
    {
     "name": "stderr",
     "text": " 82%|████████▏ | 83/101 [2:10:46<25:16, 84.27s/it]",
     "output_type": "stream"
    },
    {
     "name": "stdout",
     "text": "episode: 82/[0, 1, 2, 3, 4, 5, 6, 7, 8, 9, 10, 11, 12, 13, 14, 15, 16, 17, 18, 19, 20, 21, 22, 23, 24, 25, 26, 27, 28, 29, 30, 31, 32, 33, 34, 35, 36, 37, 38, 39, 40, 41, 42, 43, 44, 45, 46, 47, 48, 49, 50, 51, 52, 53, 54, 55, 56, 57, 58, 59, 60, 61, 62, 63, 64, 65, 66, 67, 68, 69, 70, 71, 72, 73, 74, 75, 76, 77, 78, 79, 80, 81, 82], score: 5.0, epsilon: 0.1\n",
     "output_type": "stream"
    },
    {
     "name": "stderr",
     "text": " 83%|████████▎ | 84/101 [2:12:08<23:38, 83.43s/it]",
     "output_type": "stream"
    },
    {
     "name": "stdout",
     "text": "episode: 83/[0, 1, 2, 3, 4, 5, 6, 7, 8, 9, 10, 11, 12, 13, 14, 15, 16, 17, 18, 19, 20, 21, 22, 23, 24, 25, 26, 27, 28, 29, 30, 31, 32, 33, 34, 35, 36, 37, 38, 39, 40, 41, 42, 43, 44, 45, 46, 47, 48, 49, 50, 51, 52, 53, 54, 55, 56, 57, 58, 59, 60, 61, 62, 63, 64, 65, 66, 67, 68, 69, 70, 71, 72, 73, 74, 75, 76, 77, 78, 79, 80, 81, 82, 83], score: 5.0, epsilon: 0.1\n",
     "output_type": "stream"
    },
    {
     "name": "stderr",
     "text": " 84%|████████▍ | 85/101 [2:13:37<22:44, 85.25s/it]",
     "output_type": "stream"
    },
    {
     "name": "stdout",
     "text": "episode: 84/[0, 1, 2, 3, 4, 5, 6, 7, 8, 9, 10, 11, 12, 13, 14, 15, 16, 17, 18, 19, 20, 21, 22, 23, 24, 25, 26, 27, 28, 29, 30, 31, 32, 33, 34, 35, 36, 37, 38, 39, 40, 41, 42, 43, 44, 45, 46, 47, 48, 49, 50, 51, 52, 53, 54, 55, 56, 57, 58, 59, 60, 61, 62, 63, 64, 65, 66, 67, 68, 69, 70, 71, 72, 73, 74, 75, 76, 77, 78, 79, 80, 81, 82, 83, 84], score: 9.0, epsilon: 0.1\n",
     "output_type": "stream"
    },
    {
     "name": "stderr",
     "text": " 85%|████████▌ | 86/101 [2:15:01<21:12, 84.86s/it]",
     "output_type": "stream"
    },
    {
     "name": "stdout",
     "text": "episode: 85/[0, 1, 2, 3, 4, 5, 6, 7, 8, 9, 10, 11, 12, 13, 14, 15, 16, 17, 18, 19, 20, 21, 22, 23, 24, 25, 26, 27, 28, 29, 30, 31, 32, 33, 34, 35, 36, 37, 38, 39, 40, 41, 42, 43, 44, 45, 46, 47, 48, 49, 50, 51, 52, 53, 54, 55, 56, 57, 58, 59, 60, 61, 62, 63, 64, 65, 66, 67, 68, 69, 70, 71, 72, 73, 74, 75, 76, 77, 78, 79, 80, 81, 82, 83, 84, 85], score: 16.0, epsilon: 0.1\n",
     "output_type": "stream"
    },
    {
     "name": "stderr",
     "text": " 86%|████████▌ | 87/101 [2:16:31<20:07, 86.22s/it]",
     "output_type": "stream"
    },
    {
     "name": "stdout",
     "text": "episode: 86/[0, 1, 2, 3, 4, 5, 6, 7, 8, 9, 10, 11, 12, 13, 14, 15, 16, 17, 18, 19, 20, 21, 22, 23, 24, 25, 26, 27, 28, 29, 30, 31, 32, 33, 34, 35, 36, 37, 38, 39, 40, 41, 42, 43, 44, 45, 46, 47, 48, 49, 50, 51, 52, 53, 54, 55, 56, 57, 58, 59, 60, 61, 62, 63, 64, 65, 66, 67, 68, 69, 70, 71, 72, 73, 74, 75, 76, 77, 78, 79, 80, 81, 82, 83, 84, 85, 86], score: 5.0, epsilon: 0.1\n",
     "output_type": "stream"
    },
    {
     "name": "stderr",
     "text": " 87%|████████▋ | 88/101 [2:18:17<19:59, 92.30s/it]",
     "output_type": "stream"
    },
    {
     "name": "stdout",
     "text": "episode: 87/[0, 1, 2, 3, 4, 5, 6, 7, 8, 9, 10, 11, 12, 13, 14, 15, 16, 17, 18, 19, 20, 21, 22, 23, 24, 25, 26, 27, 28, 29, 30, 31, 32, 33, 34, 35, 36, 37, 38, 39, 40, 41, 42, 43, 44, 45, 46, 47, 48, 49, 50, 51, 52, 53, 54, 55, 56, 57, 58, 59, 60, 61, 62, 63, 64, 65, 66, 67, 68, 69, 70, 71, 72, 73, 74, 75, 76, 77, 78, 79, 80, 81, 82, 83, 84, 85, 86, 87], score: 19.0, epsilon: 0.1\n",
     "output_type": "stream"
    },
    {
     "name": "stderr",
     "text": " 88%|████████▊ | 89/101 [2:19:35<17:34, 87.90s/it]",
     "output_type": "stream"
    },
    {
     "name": "stdout",
     "text": "episode: 88/[0, 1, 2, 3, 4, 5, 6, 7, 8, 9, 10, 11, 12, 13, 14, 15, 16, 17, 18, 19, 20, 21, 22, 23, 24, 25, 26, 27, 28, 29, 30, 31, 32, 33, 34, 35, 36, 37, 38, 39, 40, 41, 42, 43, 44, 45, 46, 47, 48, 49, 50, 51, 52, 53, 54, 55, 56, 57, 58, 59, 60, 61, 62, 63, 64, 65, 66, 67, 68, 69, 70, 71, 72, 73, 74, 75, 76, 77, 78, 79, 80, 81, 82, 83, 84, 85, 86, 87, 88], score: 4.0, epsilon: 0.1\n",
     "output_type": "stream"
    },
    {
     "name": "stderr",
     "text": " 89%|████████▉ | 90/101 [2:21:02<16:03, 87.61s/it]",
     "output_type": "stream"
    },
    {
     "name": "stdout",
     "text": "episode: 89/[0, 1, 2, 3, 4, 5, 6, 7, 8, 9, 10, 11, 12, 13, 14, 15, 16, 17, 18, 19, 20, 21, 22, 23, 24, 25, 26, 27, 28, 29, 30, 31, 32, 33, 34, 35, 36, 37, 38, 39, 40, 41, 42, 43, 44, 45, 46, 47, 48, 49, 50, 51, 52, 53, 54, 55, 56, 57, 58, 59, 60, 61, 62, 63, 64, 65, 66, 67, 68, 69, 70, 71, 72, 73, 74, 75, 76, 77, 78, 79, 80, 81, 82, 83, 84, 85, 86, 87, 88, 89], score: 4.0, epsilon: 0.1\n",
     "output_type": "stream"
    },
    {
     "name": "stderr",
     "text": " 90%|█████████ | 91/101 [2:22:44<15:19, 91.92s/it]",
     "output_type": "stream"
    },
    {
     "name": "stdout",
     "text": "episode: 90/[0, 1, 2, 3, 4, 5, 6, 7, 8, 9, 10, 11, 12, 13, 14, 15, 16, 17, 18, 19, 20, 21, 22, 23, 24, 25, 26, 27, 28, 29, 30, 31, 32, 33, 34, 35, 36, 37, 38, 39, 40, 41, 42, 43, 44, 45, 46, 47, 48, 49, 50, 51, 52, 53, 54, 55, 56, 57, 58, 59, 60, 61, 62, 63, 64, 65, 66, 67, 68, 69, 70, 71, 72, 73, 74, 75, 76, 77, 78, 79, 80, 81, 82, 83, 84, 85, 86, 87, 88, 89, 90], score: 22.0, epsilon: 0.1\n",
     "output_type": "stream"
    },
    {
     "name": "stderr",
     "text": " 91%|█████████ | 92/101 [2:24:18<13:54, 92.70s/it]",
     "output_type": "stream"
    },
    {
     "name": "stdout",
     "text": "episode: 91/[0, 1, 2, 3, 4, 5, 6, 7, 8, 9, 10, 11, 12, 13, 14, 15, 16, 17, 18, 19, 20, 21, 22, 23, 24, 25, 26, 27, 28, 29, 30, 31, 32, 33, 34, 35, 36, 37, 38, 39, 40, 41, 42, 43, 44, 45, 46, 47, 48, 49, 50, 51, 52, 53, 54, 55, 56, 57, 58, 59, 60, 61, 62, 63, 64, 65, 66, 67, 68, 69, 70, 71, 72, 73, 74, 75, 76, 77, 78, 79, 80, 81, 82, 83, 84, 85, 86, 87, 88, 89, 90, 91], score: 14.0, epsilon: 0.1\n",
     "output_type": "stream"
    },
    {
     "name": "stderr",
     "text": " 92%|█████████▏| 93/101 [2:25:45<12:06, 90.87s/it]",
     "output_type": "stream"
    },
    {
     "name": "stdout",
     "text": "episode: 92/[0, 1, 2, 3, 4, 5, 6, 7, 8, 9, 10, 11, 12, 13, 14, 15, 16, 17, 18, 19, 20, 21, 22, 23, 24, 25, 26, 27, 28, 29, 30, 31, 32, 33, 34, 35, 36, 37, 38, 39, 40, 41, 42, 43, 44, 45, 46, 47, 48, 49, 50, 51, 52, 53, 54, 55, 56, 57, 58, 59, 60, 61, 62, 63, 64, 65, 66, 67, 68, 69, 70, 71, 72, 73, 74, 75, 76, 77, 78, 79, 80, 81, 82, 83, 84, 85, 86, 87, 88, 89, 90, 91, 92], score: 14.0, epsilon: 0.1\n",
     "output_type": "stream"
    },
    {
     "name": "stderr",
     "text": " 93%|█████████▎| 94/101 [2:27:03<10:09, 87.05s/it]",
     "output_type": "stream"
    },
    {
     "name": "stdout",
     "text": "episode: 93/[0, 1, 2, 3, 4, 5, 6, 7, 8, 9, 10, 11, 12, 13, 14, 15, 16, 17, 18, 19, 20, 21, 22, 23, 24, 25, 26, 27, 28, 29, 30, 31, 32, 33, 34, 35, 36, 37, 38, 39, 40, 41, 42, 43, 44, 45, 46, 47, 48, 49, 50, 51, 52, 53, 54, 55, 56, 57, 58, 59, 60, 61, 62, 63, 64, 65, 66, 67, 68, 69, 70, 71, 72, 73, 74, 75, 76, 77, 78, 79, 80, 81, 82, 83, 84, 85, 86, 87, 88, 89, 90, 91, 92, 93], score: 8.0, epsilon: 0.1\n",
     "output_type": "stream"
    },
    {
     "name": "stderr",
     "text": " 94%|█████████▍| 95/101 [2:28:52<09:21, 93.52s/it]",
     "output_type": "stream"
    },
    {
     "name": "stdout",
     "text": "episode: 94/[0, 1, 2, 3, 4, 5, 6, 7, 8, 9, 10, 11, 12, 13, 14, 15, 16, 17, 18, 19, 20, 21, 22, 23, 24, 25, 26, 27, 28, 29, 30, 31, 32, 33, 34, 35, 36, 37, 38, 39, 40, 41, 42, 43, 44, 45, 46, 47, 48, 49, 50, 51, 52, 53, 54, 55, 56, 57, 58, 59, 60, 61, 62, 63, 64, 65, 66, 67, 68, 69, 70, 71, 72, 73, 74, 75, 76, 77, 78, 79, 80, 81, 82, 83, 84, 85, 86, 87, 88, 89, 90, 91, 92, 93, 94], score: 12.0, epsilon: 0.1\n",
     "output_type": "stream"
    },
    {
     "name": "stderr",
     "text": " 95%|█████████▌| 96/101 [2:30:06<07:19, 87.93s/it]",
     "output_type": "stream"
    },
    {
     "name": "stdout",
     "text": "episode: 95/[0, 1, 2, 3, 4, 5, 6, 7, 8, 9, 10, 11, 12, 13, 14, 15, 16, 17, 18, 19, 20, 21, 22, 23, 24, 25, 26, 27, 28, 29, 30, 31, 32, 33, 34, 35, 36, 37, 38, 39, 40, 41, 42, 43, 44, 45, 46, 47, 48, 49, 50, 51, 52, 53, 54, 55, 56, 57, 58, 59, 60, 61, 62, 63, 64, 65, 66, 67, 68, 69, 70, 71, 72, 73, 74, 75, 76, 77, 78, 79, 80, 81, 82, 83, 84, 85, 86, 87, 88, 89, 90, 91, 92, 93, 94, 95], score: 9.0, epsilon: 0.1\n",
     "output_type": "stream"
    },
    {
     "name": "stderr",
     "text": " 96%|█████████▌| 97/101 [2:31:40<05:58, 89.69s/it]",
     "output_type": "stream"
    },
    {
     "name": "stdout",
     "text": "episode: 96/[0, 1, 2, 3, 4, 5, 6, 7, 8, 9, 10, 11, 12, 13, 14, 15, 16, 17, 18, 19, 20, 21, 22, 23, 24, 25, 26, 27, 28, 29, 30, 31, 32, 33, 34, 35, 36, 37, 38, 39, 40, 41, 42, 43, 44, 45, 46, 47, 48, 49, 50, 51, 52, 53, 54, 55, 56, 57, 58, 59, 60, 61, 62, 63, 64, 65, 66, 67, 68, 69, 70, 71, 72, 73, 74, 75, 76, 77, 78, 79, 80, 81, 82, 83, 84, 85, 86, 87, 88, 89, 90, 91, 92, 93, 94, 95, 96], score: 24.0, epsilon: 0.1\n",
     "output_type": "stream"
    },
    {
     "name": "stderr",
     "text": " 97%|█████████▋| 98/101 [2:33:34<04:50, 96.82s/it]",
     "output_type": "stream"
    },
    {
     "name": "stdout",
     "text": "episode: 97/[0, 1, 2, 3, 4, 5, 6, 7, 8, 9, 10, 11, 12, 13, 14, 15, 16, 17, 18, 19, 20, 21, 22, 23, 24, 25, 26, 27, 28, 29, 30, 31, 32, 33, 34, 35, 36, 37, 38, 39, 40, 41, 42, 43, 44, 45, 46, 47, 48, 49, 50, 51, 52, 53, 54, 55, 56, 57, 58, 59, 60, 61, 62, 63, 64, 65, 66, 67, 68, 69, 70, 71, 72, 73, 74, 75, 76, 77, 78, 79, 80, 81, 82, 83, 84, 85, 86, 87, 88, 89, 90, 91, 92, 93, 94, 95, 96, 97], score: 17.0, epsilon: 0.1\n",
     "output_type": "stream"
    },
    {
     "name": "stderr",
     "text": " 98%|█████████▊| 99/101 [2:35:32<03:26, 103.39s/it]",
     "output_type": "stream"
    },
    {
     "name": "stdout",
     "text": "episode: 98/[0, 1, 2, 3, 4, 5, 6, 7, 8, 9, 10, 11, 12, 13, 14, 15, 16, 17, 18, 19, 20, 21, 22, 23, 24, 25, 26, 27, 28, 29, 30, 31, 32, 33, 34, 35, 36, 37, 38, 39, 40, 41, 42, 43, 44, 45, 46, 47, 48, 49, 50, 51, 52, 53, 54, 55, 56, 57, 58, 59, 60, 61, 62, 63, 64, 65, 66, 67, 68, 69, 70, 71, 72, 73, 74, 75, 76, 77, 78, 79, 80, 81, 82, 83, 84, 85, 86, 87, 88, 89, 90, 91, 92, 93, 94, 95, 96, 97, 98], score: 29.0, epsilon: 0.1\n",
     "output_type": "stream"
    },
    {
     "name": "stderr",
     "text": " 99%|█████████▉| 100/101 [2:37:05<01:40, 100.11s/it]",
     "output_type": "stream"
    },
    {
     "name": "stdout",
     "text": "episode: 99/[0, 1, 2, 3, 4, 5, 6, 7, 8, 9, 10, 11, 12, 13, 14, 15, 16, 17, 18, 19, 20, 21, 22, 23, 24, 25, 26, 27, 28, 29, 30, 31, 32, 33, 34, 35, 36, 37, 38, 39, 40, 41, 42, 43, 44, 45, 46, 47, 48, 49, 50, 51, 52, 53, 54, 55, 56, 57, 58, 59, 60, 61, 62, 63, 64, 65, 66, 67, 68, 69, 70, 71, 72, 73, 74, 75, 76, 77, 78, 79, 80, 81, 82, 83, 84, 85, 86, 87, 88, 89, 90, 91, 92, 93, 94, 95, 96, 97, 98, 99], score: 4.0, epsilon: 0.1\n",
     "output_type": "stream"
    },
    {
     "name": "stderr",
     "text": "100%|██████████| 101/101 [2:38:30<00:00, 94.16s/it] ",
     "output_type": "stream"
    },
    {
     "name": "stdout",
     "text": "episode: 100/[0, 1, 2, 3, 4, 5, 6, 7, 8, 9, 10, 11, 12, 13, 14, 15, 16, 17, 18, 19, 20, 21, 22, 23, 24, 25, 26, 27, 28, 29, 30, 31, 32, 33, 34, 35, 36, 37, 38, 39, 40, 41, 42, 43, 44, 45, 46, 47, 48, 49, 50, 51, 52, 53, 54, 55, 56, 57, 58, 59, 60, 61, 62, 63, 64, 65, 66, 67, 68, 69, 70, 71, 72, 73, 74, 75, 76, 77, 78, 79, 80, 81, 82, 83, 84, 85, 86, 87, 88, 89, 90, 91, 92, 93, 94, 95, 96, 97, 98, 99, 100], score: 6.0, epsilon: 0.1\nModel saved\n",
     "output_type": "stream"
    },
    {
     "name": "stderr",
     "text": "\n",
     "output_type": "stream"
    },
    {
     "output_type": "display_data",
     "data": {
      "text/plain": "<Figure size 640x480 with 1 Axes>",
      "image/png": "[encoded data removed]"
     },
     "metadata": {}
    }
   ],
   "execution_count": 9
  },
  {
   "id": "ce4560fc83c152e8",
   "cell_type": "code",
   "source": "",
   "metadata": {
    "id": "ce4560fc83c152e8"
   },
   "outputs": [],
   "execution_count": null
  }
 ]
}
