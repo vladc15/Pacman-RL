{
 "cells": [
  {
   "cell_type": "code",
   "id": "initial_id",
   "metadata": {
    "collapsed": true,
    "ExecuteTime": {
     "end_time": "2025-01-10T11:13:58.573571Z",
     "start_time": "2025-01-10T11:13:55.720831Z"
    }
   },
   "source": [
    "import gymnasium as gym\n",
    "!pip install ale_py\n",
    "import ale_py\n",
    "from tqdm import tqdm"
   ],
   "outputs": [
    {
     "name": "stdout",
     "output_type": "stream",
     "text": [
      "Requirement already satisfied: ale_py in c:\\users\\v\\appdata\\local\\programs\\python\\python311\\lib\\site-packages (0.10.1)\n",
      "Requirement already satisfied: numpy>1.20 in c:\\users\\v\\appdata\\local\\programs\\python\\python311\\lib\\site-packages (from ale_py) (1.26.4)\n"
     ]
    },
    {
     "name": "stderr",
     "output_type": "stream",
     "text": [
      "\n",
      "[notice] A new release of pip available: 22.3 -> 24.3.1\n",
      "[notice] To update, run: C:\\Users\\v\\AppData\\Local\\Programs\\Python\\Python311\\python.exe -m pip install --upgrade pip\n"
     ]
    }
   ],
   "execution_count": 5
  },
  {
   "metadata": {
    "ExecuteTime": {
     "end_time": "2025-01-10T11:14:34.246938Z",
     "start_time": "2025-01-10T11:14:34.061759Z"
    }
   },
   "cell_type": "code",
   "source": [
    "gym.register_envs(ale_py)\n",
    "env = gym.make('ALE/Pacman-v5', render_mode='human')"
   ],
   "id": "73e5803dc78669c9",
   "outputs": [],
   "execution_count": 8
  },
  {
   "metadata": {
    "ExecuteTime": {
     "end_time": "2025-01-06T10:25:02.648864Z",
     "start_time": "2025-01-06T10:24:40.179773Z"
    }
   },
   "cell_type": "code",
   "source": [
    "obs, info = env.reset()\n",
    "terminated = False\n",
    "cumulative_reward = 0\n",
    "while not terminated:\n",
    "    #action = int(input('Enter action: '))\n",
    "    action = env.action_space.sample()\n",
    "    obs, reward, terminated, truncated, info = env.step(action)\n",
    "    cumulative_reward += reward\n",
    "    #print(reward, '\\n', terminated, '\\n', truncated, '\\n', info)\n",
    "    #time.sleep(0.1)\n",
    "print(obs, '\\n', reward, '\\n', terminated, '\\n', truncated, '\\n', info)\n",
    "print(f'Total reward: {cumulative_reward}')"
   ],
   "id": "cc0fd34023c9188b",
   "outputs": [
    {
     "name": "stdout",
     "output_type": "stream",
     "text": [
      "[[[0 0 0]\n",
      "  [0 0 0]\n",
      "  [0 0 0]\n",
      "  ...\n",
      "  [0 0 0]\n",
      "  [0 0 0]\n",
      "  [0 0 0]]\n",
      "\n",
      " [[0 0 0]\n",
      "  [0 0 0]\n",
      "  [0 0 0]\n",
      "  ...\n",
      "  [0 0 0]\n",
      "  [0 0 0]\n",
      "  [0 0 0]]\n",
      "\n",
      " [[0 0 0]\n",
      "  [0 0 0]\n",
      "  [0 0 0]\n",
      "  ...\n",
      "  [0 0 0]\n",
      "  [0 0 0]\n",
      "  [0 0 0]]\n",
      "\n",
      " ...\n",
      "\n",
      " [[0 0 0]\n",
      "  [0 0 0]\n",
      "  [0 0 0]\n",
      "  ...\n",
      "  [0 0 0]\n",
      "  [0 0 0]\n",
      "  [0 0 0]]\n",
      "\n",
      " [[0 0 0]\n",
      "  [0 0 0]\n",
      "  [0 0 0]\n",
      "  ...\n",
      "  [0 0 0]\n",
      "  [0 0 0]\n",
      "  [0 0 0]]\n",
      "\n",
      " [[0 0 0]\n",
      "  [0 0 0]\n",
      "  [0 0 0]\n",
      "  ...\n",
      "  [0 0 0]\n",
      "  [0 0 0]\n",
      "  [0 0 0]]] \n",
      " 0.0 \n",
      " True \n",
      " False \n",
      " {'lives': 0, 'episode_frame_number': 1589, 'frame_number': 1605}\n",
      "Total reward: 14.0\n"
     ]
    }
   ],
   "execution_count": 3
  },
  {
   "metadata": {
    "ExecuteTime": {
     "end_time": "2025-01-10T11:18:13.031998Z",
     "start_time": "2025-01-10T11:14:39.098744Z"
    }
   },
   "cell_type": "code",
   "source": [
    "# get an average reward over 10 episodes\n",
    "cumulative_rewards = []\n",
    "for i in tqdm(range(10)):\n",
    "    obs, info = env.reset()\n",
    "    terminated = False\n",
    "    cumulative_reward = 0\n",
    "    while not terminated:\n",
    "        action = env.action_space.sample()\n",
    "        obs, reward, terminated, truncated, info = env.step(action)\n",
    "        cumulative_reward += reward\n",
    "    cumulative_rewards.append(cumulative_reward)"
   ],
   "id": "af24cd6e353112f7",
   "outputs": [
    {
     "name": "stderr",
     "output_type": "stream",
     "text": [
      "100%|██████████| 10/10 [03:33<00:00, 21.39s/it]\n"
     ]
    }
   ],
   "execution_count": 9
  },
  {
   "metadata": {
    "ExecuteTime": {
     "end_time": "2025-01-10T11:18:16.981485Z",
     "start_time": "2025-01-10T11:18:16.973620Z"
    }
   },
   "cell_type": "code",
   "source": [
    "print(cumulative_rewards)\n",
    "print(f'Average reward: {sum(cumulative_rewards)/len(cumulative_rewards)}')"
   ],
   "id": "b5b35bf70253cd05",
   "outputs": [
    {
     "name": "stdout",
     "output_type": "stream",
     "text": [
      "[12.0, 13.0, 8.0, 9.0, 12.0, 18.0, 10.0, 17.0, 19.0, 14.0]\n",
      "Average reward: 13.2\n"
     ]
    }
   ],
   "execution_count": 10
  },
  {
   "metadata": {
    "ExecuteTime": {
     "end_time": "2025-01-10T11:19:25.887328Z",
     "start_time": "2025-01-10T11:19:25.882855Z"
    }
   },
   "cell_type": "code",
   "source": "env.close()",
   "id": "dd961da3fb5dc4b5",
   "outputs": [],
   "execution_count": 12
  },
  {
   "metadata": {},
   "cell_type": "code",
   "outputs": [],
   "execution_count": null,
   "source": "",
   "id": "df74fe3b63e22d6"
  }
 ],
 "metadata": {
  "kernelspec": {
   "display_name": "Python 3",
   "language": "python",
   "name": "python3"
  },
  "language_info": {
   "codemirror_mode": {
    "name": "ipython",
    "version": 2
   },
   "file_extension": ".py",
   "mimetype": "text/x-python",
   "name": "python",
   "nbconvert_exporter": "python",
   "pygments_lexer": "ipython2",
   "version": "2.7.6"
  }
 },
 "nbformat": 4,
 "nbformat_minor": 5
}
