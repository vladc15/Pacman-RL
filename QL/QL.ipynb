{
 "cells": [
  {
   "metadata": {
    "ExecuteTime": {
     "end_time": "2025-01-14T16:38:31.190749Z",
     "start_time": "2025-01-14T16:15:53.984559Z"
    }
   },
   "cell_type": "code",
   "source": [
    "import numpy as np\n",
    "import gymnasium as gym\n",
    "from collections import defaultdict\n",
    "import ale_py\n",
    "import random\n",
    "from tqdm import tqdm\n",
    "import matplotlib.pyplot as plt\n",
    "\n",
    "scores = []\n",
    "\n",
    "class QLearningAgent:\n",
    "    def __init__(self, state_space, action_space, learning_rate=0.1, discount=0.99, epsilon=1.0, epsilon_decay=0.995, epsilon_min=0.1):\n",
    "        self.action_space = action_space\n",
    "        self.learning_rate = learning_rate\n",
    "        self.discount = discount\n",
    "        self.epsilon = epsilon\n",
    "        self.epsilon_decay = epsilon_decay\n",
    "        self.epsilon_min = epsilon_min\n",
    "        \n",
    "        # Initialize Q-table as a defaultdict\n",
    "        self.q_table = defaultdict(lambda: np.zeros(action_space))\n",
    "    \n",
    "    def get_action(self, state):\n",
    "        if np.random.rand() < self.epsilon:\n",
    "            return random.randrange(self.action_space)  # Exploration\n",
    "        return np.argmax(self.q_table[state])  # Exploitation\n",
    "    \n",
    "    def update_q_table(self, state, action, reward, next_state, done):\n",
    "        max_future_q = 0 if done else np.max(self.q_table[next_state])\n",
    "        target = reward + self.discount * max_future_q\n",
    "        self.q_table[state][action] += self.learning_rate * (target - self.q_table[state][action])\n",
    "    \n",
    "    def decay_epsilon(self):\n",
    "        if self.epsilon > self.epsilon_min:\n",
    "            self.epsilon *= self.epsilon_decay\n",
    "\n",
    "class PacmanQLearning:\n",
    "    def __init__(self, env_name='ALE/Pacman-v5', view='human'):\n",
    "        self.env = gym.make(env_name, frameskip=1, render_mode=view)\n",
    "        self.env = gym.wrappers.AtariPreprocessing(self.env, frame_skip=4, grayscale_obs=True, screen_size=84)\n",
    "        self.env.reset()\n",
    "        \n",
    "        self.state_space = (84, 84)  # Simplified state representation\n",
    "        self.action_space = self.env.action_space.n\n",
    "        \n",
    "        self.agent = QLearningAgent(self.state_space, self.action_space)\n",
    "    \n",
    "    def preprocess_state(self, state):\n",
    "        return tuple(state.flatten())  # Flatten the state for use as a key in the Q-table\n",
    "    \n",
    "    def train(self, episodes=1000, statistics=True, save_path='./'):\n",
    "        scores = []\n",
    "        \n",
    "        for e in tqdm(range(episodes)):\n",
    "            state, _ = self.env.reset()\n",
    "            state = self.preprocess_state(state)\n",
    "            \n",
    "            done = False\n",
    "            score = 0\n",
    "            \n",
    "            while not done:\n",
    "                action = self.agent.get_action(state)\n",
    "                next_state, reward, done, _, _ = self.env.step(action)\n",
    "                next_state = self.preprocess_state(next_state)\n",
    "                \n",
    "                # Update Q-table\n",
    "                self.agent.update_q_table(state, action, reward, next_state, done)\n",
    "                \n",
    "                state = next_state\n",
    "                score += reward\n",
    "            \n",
    "            # Decay epsilon after each episode\n",
    "            self.agent.decay_epsilon()\n",
    "            \n",
    "            # Logging\n",
    "            scores.append(score)\n",
    "            \n",
    "            if statistics:\n",
    "                print(f\"Episode: {e+1}/{episodes}, Score: {score}, Epsilon: {self.agent.epsilon:.3f}\")\n",
    "        \n",
    "        # Save Q-table for future use\n",
    "        np.save(save_path + 'q_table.npy', dict(self.agent.q_table))\n",
    "        print(\"Training complete. Q-table saved.\")\n",
    "    \n",
    "    def play(self, episodes=1):\n",
    "        for episode in range(episodes):\n",
    "            state, _ = self.env.reset()\n",
    "            state = self.preprocess_state(state)\n",
    "            \n",
    "            done = False\n",
    "            score = 0\n",
    "            \n",
    "            print(f\"Starting Episode {episode + 1}\")\n",
    "            \n",
    "            while not done:\n",
    "                self.env.render()  # Render the environment\n",
    "                action = self.agent.get_action(state)  # Use the agent's policy\n",
    "                next_state, reward, done, _, _ = self.env.step(action)\n",
    "                next_state = self.preprocess_state(next_state)\n",
    "                \n",
    "                state = next_state\n",
    "                score += reward\n",
    "            \n",
    "            print(f\"Episode {episode + 1} ended with score: {score}\")\n",
    "            scores.append(score)\n",
    "        self.env.close()\n",
    "\n",
    "# Initialize Pacman Q-learning\n",
    "pacman = PacmanQLearning()\n",
    "\n",
    "# Train the agent\n",
    "pacman.train(episodes=50, statistics=True, save_path='./')\n",
    "\n",
    "# Plot the scores\n",
    "plt.figure(figsize=(10, 5))\n",
    "plt.plot(np.arange(len(scores)), scores, color='blue')\n",
    "plt.xlabel('Episodes')\n",
    "plt.show()"
   ],
   "id": "6aaf0f3a61b65530",
   "outputs": [
    {
     "name": "stderr",
     "output_type": "stream",
     "text": [
      "  2%|▏         | 1/50 [00:15<12:28, 15.28s/it]"
     ]
    },
    {
     "name": "stdout",
     "output_type": "stream",
     "text": [
      "Episode: 1/50, Score: 9.0, Epsilon: 0.995\n"
     ]
    },
    {
     "name": "stderr",
     "output_type": "stream",
     "text": [
      "  4%|▍         | 2/50 [00:36<15:07, 18.90s/it]"
     ]
    },
    {
     "name": "stdout",
     "output_type": "stream",
     "text": [
      "Episode: 2/50, Score: 12.0, Epsilon: 0.990\n"
     ]
    },
    {
     "name": "stderr",
     "output_type": "stream",
     "text": [
      "  6%|▌         | 3/50 [00:58<15:43, 20.07s/it]"
     ]
    },
    {
     "name": "stdout",
     "output_type": "stream",
     "text": [
      "Episode: 3/50, Score: 21.0, Epsilon: 0.985\n"
     ]
    },
    {
     "name": "stderr",
     "output_type": "stream",
     "text": [
      "  8%|▊         | 4/50 [01:18<15:31, 20.25s/it]"
     ]
    },
    {
     "name": "stdout",
     "output_type": "stream",
     "text": [
      "Episode: 4/50, Score: 29.0, Epsilon: 0.980\n"
     ]
    },
    {
     "name": "stderr",
     "output_type": "stream",
     "text": [
      " 10%|█         | 5/50 [01:34<13:53, 18.52s/it]"
     ]
    },
    {
     "name": "stdout",
     "output_type": "stream",
     "text": [
      "Episode: 5/50, Score: 9.0, Epsilon: 0.975\n"
     ]
    },
    {
     "name": "stderr",
     "output_type": "stream",
     "text": [
      " 12%|█▏        | 6/50 [01:51<13:15, 18.08s/it]"
     ]
    },
    {
     "name": "stdout",
     "output_type": "stream",
     "text": [
      "Episode: 6/50, Score: 13.0, Epsilon: 0.970\n"
     ]
    },
    {
     "name": "stderr",
     "output_type": "stream",
     "text": [
      " 14%|█▍        | 7/50 [02:15<14:21, 20.04s/it]"
     ]
    },
    {
     "name": "stdout",
     "output_type": "stream",
     "text": [
      "Episode: 7/50, Score: 18.0, Epsilon: 0.966\n"
     ]
    },
    {
     "name": "stderr",
     "output_type": "stream",
     "text": [
      " 16%|█▌        | 8/50 [02:37<14:26, 20.64s/it]"
     ]
    },
    {
     "name": "stdout",
     "output_type": "stream",
     "text": [
      "Episode: 8/50, Score: 19.0, Epsilon: 0.961\n"
     ]
    },
    {
     "name": "stderr",
     "output_type": "stream",
     "text": [
      " 18%|█▊        | 9/50 [03:01<14:45, 21.59s/it]"
     ]
    },
    {
     "name": "stdout",
     "output_type": "stream",
     "text": [
      "Episode: 9/50, Score: 18.0, Epsilon: 0.956\n"
     ]
    },
    {
     "name": "stderr",
     "output_type": "stream",
     "text": [
      " 20%|██        | 10/50 [03:22<14:20, 21.51s/it]"
     ]
    },
    {
     "name": "stdout",
     "output_type": "stream",
     "text": [
      "Episode: 10/50, Score: 15.0, Epsilon: 0.951\n"
     ]
    },
    {
     "name": "stderr",
     "output_type": "stream",
     "text": [
      " 22%|██▏       | 11/50 [03:44<14:02, 21.60s/it]"
     ]
    },
    {
     "name": "stdout",
     "output_type": "stream",
     "text": [
      "Episode: 11/50, Score: 16.0, Epsilon: 0.946\n"
     ]
    },
    {
     "name": "stderr",
     "output_type": "stream",
     "text": [
      " 24%|██▍       | 12/50 [04:05<13:43, 21.66s/it]"
     ]
    },
    {
     "name": "stdout",
     "output_type": "stream",
     "text": [
      "Episode: 12/50, Score: 15.0, Epsilon: 0.942\n"
     ]
    },
    {
     "name": "stderr",
     "output_type": "stream",
     "text": [
      " 26%|██▌       | 13/50 [04:20<11:59, 19.45s/it]"
     ]
    },
    {
     "name": "stdout",
     "output_type": "stream",
     "text": [
      "Episode: 13/50, Score: 6.0, Epsilon: 0.937\n"
     ]
    },
    {
     "name": "stderr",
     "output_type": "stream",
     "text": [
      " 28%|██▊       | 14/50 [04:38<11:28, 19.11s/it]"
     ]
    },
    {
     "name": "stdout",
     "output_type": "stream",
     "text": [
      "Episode: 14/50, Score: 13.0, Epsilon: 0.932\n"
     ]
    },
    {
     "name": "stderr",
     "output_type": "stream",
     "text": [
      " 30%|███       | 15/50 [05:01<11:45, 20.15s/it]"
     ]
    },
    {
     "name": "stdout",
     "output_type": "stream",
     "text": [
      "Episode: 15/50, Score: 23.0, Epsilon: 0.928\n"
     ]
    },
    {
     "name": "stderr",
     "output_type": "stream",
     "text": [
      " 32%|███▏      | 16/50 [05:20<11:12, 19.79s/it]"
     ]
    },
    {
     "name": "stdout",
     "output_type": "stream",
     "text": [
      "Episode: 16/50, Score: 6.0, Epsilon: 0.923\n"
     ]
    },
    {
     "name": "stderr",
     "output_type": "stream",
     "text": [
      " 34%|███▍      | 17/50 [05:39<10:44, 19.54s/it]"
     ]
    },
    {
     "name": "stdout",
     "output_type": "stream",
     "text": [
      "Episode: 17/50, Score: 14.0, Epsilon: 0.918\n"
     ]
    },
    {
     "name": "stderr",
     "output_type": "stream",
     "text": [
      " 36%|███▌      | 18/50 [06:02<10:57, 20.55s/it]"
     ]
    },
    {
     "name": "stdout",
     "output_type": "stream",
     "text": [
      "Episode: 18/50, Score: 24.0, Epsilon: 0.914\n"
     ]
    },
    {
     "name": "stderr",
     "output_type": "stream",
     "text": [
      " 38%|███▊      | 19/50 [06:27<11:24, 22.08s/it]"
     ]
    },
    {
     "name": "stdout",
     "output_type": "stream",
     "text": [
      "Episode: 19/50, Score: 27.0, Epsilon: 0.909\n"
     ]
    },
    {
     "name": "stderr",
     "output_type": "stream",
     "text": [
      " 40%|████      | 20/50 [06:48<10:52, 21.77s/it]"
     ]
    },
    {
     "name": "stdout",
     "output_type": "stream",
     "text": [
      "Episode: 20/50, Score: 18.0, Epsilon: 0.905\n"
     ]
    },
    {
     "name": "stderr",
     "output_type": "stream",
     "text": [
      " 42%|████▏     | 21/50 [07:09<10:20, 21.40s/it]"
     ]
    },
    {
     "name": "stdout",
     "output_type": "stream",
     "text": [
      "Episode: 21/50, Score: 8.0, Epsilon: 0.900\n"
     ]
    },
    {
     "name": "stderr",
     "output_type": "stream",
     "text": [
      " 44%|████▍     | 22/50 [07:50<12:42, 27.24s/it]"
     ]
    },
    {
     "name": "stdout",
     "output_type": "stream",
     "text": [
      "Episode: 22/50, Score: 17.0, Epsilon: 0.896\n"
     ]
    },
    {
     "name": "stderr",
     "output_type": "stream",
     "text": [
      " 46%|████▌     | 23/50 [08:26<13:26, 29.89s/it]"
     ]
    },
    {
     "name": "stdout",
     "output_type": "stream",
     "text": [
      "Episode: 23/50, Score: 19.0, Epsilon: 0.891\n"
     ]
    },
    {
     "name": "stderr",
     "output_type": "stream",
     "text": [
      " 48%|████▊     | 24/50 [08:44<11:25, 26.37s/it]"
     ]
    },
    {
     "name": "stdout",
     "output_type": "stream",
     "text": [
      "Episode: 24/50, Score: 15.0, Epsilon: 0.887\n"
     ]
    },
    {
     "name": "stderr",
     "output_type": "stream",
     "text": [
      " 50%|█████     | 25/50 [08:59<09:32, 22.90s/it]"
     ]
    },
    {
     "name": "stdout",
     "output_type": "stream",
     "text": [
      "Episode: 25/50, Score: 9.0, Epsilon: 0.882\n"
     ]
    },
    {
     "name": "stderr",
     "output_type": "stream",
     "text": [
      " 52%|█████▏    | 26/50 [09:18<08:44, 21.85s/it]"
     ]
    },
    {
     "name": "stdout",
     "output_type": "stream",
     "text": [
      "Episode: 26/50, Score: 17.0, Epsilon: 0.878\n"
     ]
    },
    {
     "name": "stderr",
     "output_type": "stream",
     "text": [
      " 54%|█████▍    | 27/50 [09:40<08:25, 22.00s/it]"
     ]
    },
    {
     "name": "stdout",
     "output_type": "stream",
     "text": [
      "Episode: 27/50, Score: 12.0, Epsilon: 0.873\n"
     ]
    },
    {
     "name": "stderr",
     "output_type": "stream",
     "text": [
      " 56%|█████▌    | 28/50 [10:14<09:19, 25.45s/it]"
     ]
    },
    {
     "name": "stdout",
     "output_type": "stream",
     "text": [
      "Episode: 28/50, Score: 32.0, Epsilon: 0.869\n"
     ]
    },
    {
     "name": "stderr",
     "output_type": "stream",
     "text": [
      " 58%|█████▊    | 29/50 [10:35<08:29, 24.28s/it]"
     ]
    },
    {
     "name": "stdout",
     "output_type": "stream",
     "text": [
      "Episode: 29/50, Score: 11.0, Epsilon: 0.865\n"
     ]
    },
    {
     "name": "stderr",
     "output_type": "stream",
     "text": [
      " 60%|██████    | 30/50 [10:54<07:29, 22.48s/it]"
     ]
    },
    {
     "name": "stdout",
     "output_type": "stream",
     "text": [
      "Episode: 30/50, Score: 16.0, Epsilon: 0.860\n"
     ]
    },
    {
     "name": "stderr",
     "output_type": "stream",
     "text": [
      " 62%|██████▏   | 31/50 [11:17<07:10, 22.66s/it]"
     ]
    },
    {
     "name": "stdout",
     "output_type": "stream",
     "text": [
      "Episode: 31/50, Score: 8.0, Epsilon: 0.856\n"
     ]
    },
    {
     "name": "stderr",
     "output_type": "stream",
     "text": [
      " 64%|██████▍   | 32/50 [11:36<06:31, 21.74s/it]"
     ]
    },
    {
     "name": "stdout",
     "output_type": "stream",
     "text": [
      "Episode: 32/50, Score: 11.0, Epsilon: 0.852\n"
     ]
    },
    {
     "name": "stderr",
     "output_type": "stream",
     "text": [
      " 66%|██████▌   | 33/50 [12:00<06:18, 22.28s/it]"
     ]
    },
    {
     "name": "stdout",
     "output_type": "stream",
     "text": [
      "Episode: 33/50, Score: 14.0, Epsilon: 0.848\n"
     ]
    },
    {
     "name": "stderr",
     "output_type": "stream",
     "text": [
      " 68%|██████▊   | 34/50 [12:24<06:04, 22.76s/it]"
     ]
    },
    {
     "name": "stdout",
     "output_type": "stream",
     "text": [
      "Episode: 34/50, Score: 23.0, Epsilon: 0.843\n"
     ]
    },
    {
     "name": "stderr",
     "output_type": "stream",
     "text": [
      " 70%|███████   | 35/50 [12:43<05:26, 21.74s/it]"
     ]
    },
    {
     "name": "stdout",
     "output_type": "stream",
     "text": [
      "Episode: 35/50, Score: 17.0, Epsilon: 0.839\n"
     ]
    },
    {
     "name": "stderr",
     "output_type": "stream",
     "text": [
      " 72%|███████▏  | 36/50 [13:02<04:52, 20.91s/it]"
     ]
    },
    {
     "name": "stdout",
     "output_type": "stream",
     "text": [
      "Episode: 36/50, Score: 9.0, Epsilon: 0.835\n"
     ]
    },
    {
     "name": "stderr",
     "output_type": "stream",
     "text": [
      " 74%|███████▍  | 37/50 [13:20<04:19, 19.94s/it]"
     ]
    },
    {
     "name": "stdout",
     "output_type": "stream",
     "text": [
      "Episode: 37/50, Score: 11.0, Epsilon: 0.831\n"
     ]
    },
    {
     "name": "stderr",
     "output_type": "stream",
     "text": [
      " 76%|███████▌  | 38/50 [13:41<04:04, 20.36s/it]"
     ]
    },
    {
     "name": "stdout",
     "output_type": "stream",
     "text": [
      "Episode: 38/50, Score: 17.0, Epsilon: 0.827\n"
     ]
    },
    {
     "name": "stderr",
     "output_type": "stream",
     "text": [
      " 78%|███████▊  | 39/50 [13:59<03:35, 19.59s/it]"
     ]
    },
    {
     "name": "stdout",
     "output_type": "stream",
     "text": [
      "Episode: 39/50, Score: 16.0, Epsilon: 0.822\n"
     ]
    },
    {
     "name": "stderr",
     "output_type": "stream",
     "text": [
      " 80%|████████  | 40/50 [14:20<03:20, 20.02s/it]"
     ]
    },
    {
     "name": "stdout",
     "output_type": "stream",
     "text": [
      "Episode: 40/50, Score: 16.0, Epsilon: 0.818\n"
     ]
    },
    {
     "name": "stderr",
     "output_type": "stream",
     "text": [
      " 82%|████████▏ | 41/50 [14:37<02:51, 19.05s/it]"
     ]
    },
    {
     "name": "stdout",
     "output_type": "stream",
     "text": [
      "Episode: 41/50, Score: 11.0, Epsilon: 0.814\n"
     ]
    },
    {
     "name": "stderr",
     "output_type": "stream",
     "text": [
      " 84%|████████▍ | 42/50 [14:57<02:34, 19.30s/it]"
     ]
    },
    {
     "name": "stdout",
     "output_type": "stream",
     "text": [
      "Episode: 42/50, Score: 15.0, Epsilon: 0.810\n"
     ]
    },
    {
     "name": "stderr",
     "output_type": "stream",
     "text": [
      " 86%|████████▌ | 43/50 [15:22<02:27, 21.08s/it]"
     ]
    },
    {
     "name": "stdout",
     "output_type": "stream",
     "text": [
      "Episode: 43/50, Score: 14.0, Epsilon: 0.806\n"
     ]
    },
    {
     "name": "stderr",
     "output_type": "stream",
     "text": [
      " 88%|████████▊ | 44/50 [15:42<02:05, 20.88s/it]"
     ]
    },
    {
     "name": "stdout",
     "output_type": "stream",
     "text": [
      "Episode: 44/50, Score: 16.0, Epsilon: 0.802\n"
     ]
    },
    {
     "name": "stderr",
     "output_type": "stream",
     "text": [
      " 90%|█████████ | 45/50 [16:05<01:46, 21.29s/it]"
     ]
    },
    {
     "name": "stdout",
     "output_type": "stream",
     "text": [
      "Episode: 45/50, Score: 20.0, Epsilon: 0.798\n"
     ]
    },
    {
     "name": "stderr",
     "output_type": "stream",
     "text": [
      " 92%|█████████▏| 46/50 [16:26<01:25, 21.29s/it]"
     ]
    },
    {
     "name": "stdout",
     "output_type": "stream",
     "text": [
      "Episode: 46/50, Score: 21.0, Epsilon: 0.794\n"
     ]
    },
    {
     "name": "stderr",
     "output_type": "stream",
     "text": [
      " 94%|█████████▍| 47/50 [16:48<01:05, 21.68s/it]"
     ]
    },
    {
     "name": "stdout",
     "output_type": "stream",
     "text": [
      "Episode: 47/50, Score: 20.0, Epsilon: 0.790\n"
     ]
    },
    {
     "name": "stderr",
     "output_type": "stream",
     "text": [
      " 96%|█████████▌| 48/50 [17:10<00:43, 21.57s/it]"
     ]
    },
    {
     "name": "stdout",
     "output_type": "stream",
     "text": [
      "Episode: 48/50, Score: 16.0, Epsilon: 0.786\n"
     ]
    },
    {
     "name": "stderr",
     "output_type": "stream",
     "text": [
      " 98%|█████████▊| 49/50 [17:30<00:21, 21.32s/it]"
     ]
    },
    {
     "name": "stdout",
     "output_type": "stream",
     "text": [
      "Episode: 49/50, Score: 22.0, Epsilon: 0.782\n"
     ]
    },
    {
     "name": "stderr",
     "output_type": "stream",
     "text": [
      "100%|██████████| 50/50 [17:51<00:00, 21.43s/it]"
     ]
    },
    {
     "name": "stdout",
     "output_type": "stream",
     "text": [
      "Episode: 50/50, Score: 19.0, Epsilon: 0.778\n"
     ]
    },
    {
     "name": "stderr",
     "output_type": "stream",
     "text": [
      "\n"
     ]
    },
    {
     "name": "stdout",
     "output_type": "stream",
     "text": [
      "Training complete. Q-table saved.\n"
     ]
    },
    {
     "data": {
      "text/plain": [
       "Text(0.5, 0, 'Episodes')"
      ]
     },
     "execution_count": 5,
     "metadata": {},
     "output_type": "execute_result"
    },
    {
     "data": {
      "text/plain": [
       "<Figure size 1000x500 with 1 Axes>"
      ],
      "image/png": "[encoded data removed]"
     },
     "metadata": {},
     "output_type": "display_data"
    }
   ],
   "execution_count": 5
  },
  {
   "metadata": {
    "ExecuteTime": {
     "end_time": "2025-01-14T16:39:44.598308Z",
     "start_time": "2025-01-14T16:38:31.200397Z"
    }
   },
   "cell_type": "code",
   "source": [
    "\n",
    "# Load the Q-table (if saved previously)\n",
    "try:\n",
    "    q_table_data = np.load('./q_table.npy', allow_pickle=True).item()\n",
    "    pacman.agent.q_table.update(q_table_data)\n",
    "    print(\"Q-table loaded successfully.\")\n",
    "except FileNotFoundError:\n",
    "    print(\"No Q-table found. Starting fresh.\")\n",
    "\n",
    "# # Watch Pac-Man play\n",
    "# pacman.play(episodes=1)"
   ],
   "id": "f2ce0fda3e9c957",
   "outputs": [
    {
     "name": "stdout",
     "output_type": "stream",
     "text": [
      "Q-table loaded successfully.\n"
     ]
    }
   ],
   "execution_count": 6
  }
 ],
 "metadata": {
  "kernelspec": {
   "display_name": "Python 3",
   "language": "python",
   "name": "python3"
  },
  "language_info": {
   "codemirror_mode": {
    "name": "ipython",
    "version": 2
   },
   "file_extension": ".py",
   "mimetype": "text/x-python",
   "name": "python",
   "nbconvert_exporter": "python",
   "pygments_lexer": "ipython2",
   "version": "2.7.6"
  }
 },
 "nbformat": 4,
 "nbformat_minor": 5
}
