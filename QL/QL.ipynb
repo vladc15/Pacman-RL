{
 "cells": [
  {
   "metadata": {
    "ExecuteTime": {
     "end_time": "2025-01-12T22:30:40.191889Z",
     "start_time": "2025-01-12T22:27:22.421281Z"
    }
   },
   "cell_type": "code",
   "source": [
    "import numpy as np\n",
    "import gymnasium as gym\n",
    "from collections import defaultdict\n",
    "import ale_py\n",
    "import random\n",
    "from tqdm import tqdm\n",
    "\n",
    "class QLearningAgent:\n",
    "    def __init__(self, state_space, action_space, learning_rate=0.1, discount=0.99, epsilon=1.0, epsilon_decay=0.995, epsilon_min=0.1):\n",
    "        self.action_space = action_space\n",
    "        self.learning_rate = learning_rate\n",
    "        self.discount = discount\n",
    "        self.epsilon = epsilon\n",
    "        self.epsilon_decay = epsilon_decay\n",
    "        self.epsilon_min = epsilon_min\n",
    "        \n",
    "        # Initialize Q-table as a defaultdict\n",
    "        self.q_table = defaultdict(lambda: np.zeros(action_space))\n",
    "    \n",
    "    def get_action(self, state):\n",
    "        if np.random.rand() < self.epsilon:\n",
    "            return random.randrange(self.action_space)  # Exploration\n",
    "        return np.argmax(self.q_table[state])  # Exploitation\n",
    "    \n",
    "    def update_q_table(self, state, action, reward, next_state, done):\n",
    "        max_future_q = 0 if done else np.max(self.q_table[next_state])\n",
    "        target = reward + self.discount * max_future_q\n",
    "        self.q_table[state][action] += self.learning_rate * (target - self.q_table[state][action])\n",
    "    \n",
    "    def decay_epsilon(self):\n",
    "        if self.epsilon > self.epsilon_min:\n",
    "            self.epsilon *= self.epsilon_decay\n",
    "\n",
    "class PacmanQLearning:\n",
    "    def __init__(self, env_name='ALE/Pacman-v5', view='human'):\n",
    "        self.env = gym.make(env_name, frameskip=1, render_mode=view)\n",
    "        self.env = gym.wrappers.AtariPreprocessing(self.env, frame_skip=4, grayscale_obs=True, screen_size=84)\n",
    "        self.env.reset()\n",
    "        \n",
    "        self.state_space = (84, 84)  # Simplified state representation\n",
    "        self.action_space = self.env.action_space.n\n",
    "        \n",
    "        self.agent = QLearningAgent(self.state_space, self.action_space)\n",
    "    \n",
    "    def preprocess_state(self, state):\n",
    "        return tuple(state.flatten())  # Flatten the state for use as a key in the Q-table\n",
    "    \n",
    "    def train(self, episodes=1000, statistics=True, save_path='./'):\n",
    "        scores = []\n",
    "        \n",
    "        for e in tqdm(range(episodes)):\n",
    "            state, _ = self.env.reset()\n",
    "            state = self.preprocess_state(state)\n",
    "            \n",
    "            done = False\n",
    "            score = 0\n",
    "            \n",
    "            while not done:\n",
    "                action = self.agent.get_action(state)\n",
    "                next_state, reward, done, _, _ = self.env.step(action)\n",
    "                next_state = self.preprocess_state(next_state)\n",
    "                \n",
    "                # Update Q-table\n",
    "                self.agent.update_q_table(state, action, reward, next_state, done)\n",
    "                \n",
    "                state = next_state\n",
    "                score += reward\n",
    "            \n",
    "            # Decay epsilon after each episode\n",
    "            self.agent.decay_epsilon()\n",
    "            \n",
    "            # Logging\n",
    "            scores.append(score)\n",
    "            \n",
    "            if statistics:\n",
    "                print(f\"Episode: {e+1}/{episodes}, Score: {score}, Epsilon: {self.agent.epsilon:.3f}\")\n",
    "        \n",
    "        # Save Q-table for future use\n",
    "        np.save(save_path + 'q_table.npy', dict(self.agent.q_table))\n",
    "        print(\"Training complete. Q-table saved.\")\n",
    "    \n",
    "    def play(self, episodes=1):\n",
    "        for episode in range(episodes):\n",
    "            state, _ = self.env.reset()\n",
    "            state = self.preprocess_state(state)\n",
    "            \n",
    "            done = False\n",
    "            score = 0\n",
    "            \n",
    "            print(f\"Starting Episode {episode + 1}\")\n",
    "            \n",
    "            while not done:\n",
    "                self.env.render()  # Render the environment\n",
    "                action = self.agent.get_action(state)  # Use the agent's policy\n",
    "                next_state, reward, done, _, _ = self.env.step(action)\n",
    "                next_state = self.preprocess_state(next_state)\n",
    "                \n",
    "                state = next_state\n",
    "                score += reward\n",
    "            \n",
    "            print(f\"Episode {episode + 1} ended with score: {score}\")\n",
    "        self.env.close()\n",
    "\n",
    "# Initialize Pacman Q-learning\n",
    "pacman = PacmanQLearning()\n",
    "\n",
    "# Train the agent\n",
    "pacman.train(episodes=5, statistics=True, save_path='./')\n",
    "\n",
    "# Load the Q-table (if saved previously)\n",
    "try:\n",
    "    q_table_data = np.load('./q_table.npy', allow_pickle=True).item()\n",
    "    pacman.agent.q_table.update(q_table_data)\n",
    "    print(\"Q-table loaded successfully.\")\n",
    "except FileNotFoundError:\n",
    "    print(\"No Q-table found. Starting fresh.\")\n",
    "\n",
    "# Watch Pac-Man play\n",
    "pacman.play(episodes=5)\n"
   ],
   "id": "f8c7b0643bebd761",
   "outputs": [
    {
     "name": "stderr",
     "output_type": "stream",
     "text": [
      " 20%|██        | 1/5 [00:21<01:27, 21.86s/it]"
     ]
    },
    {
     "name": "stdout",
     "output_type": "stream",
     "text": [
      "Episode: 1/5, Score: 20.0, Epsilon: 0.995\n"
     ]
    },
    {
     "name": "stderr",
     "output_type": "stream",
     "text": [
      " 40%|████      | 2/5 [00:47<01:11, 23.82s/it]"
     ]
    },
    {
     "name": "stdout",
     "output_type": "stream",
     "text": [
      "Episode: 2/5, Score: 21.0, Epsilon: 0.990\n"
     ]
    },
    {
     "name": "stderr",
     "output_type": "stream",
     "text": [
      " 60%|██████    | 3/5 [01:12<00:49, 24.58s/it]"
     ]
    },
    {
     "name": "stdout",
     "output_type": "stream",
     "text": [
      "Episode: 3/5, Score: 19.0, Epsilon: 0.985\n"
     ]
    },
    {
     "name": "stderr",
     "output_type": "stream",
     "text": [
      " 80%|████████  | 4/5 [01:31<00:22, 22.55s/it]"
     ]
    },
    {
     "name": "stdout",
     "output_type": "stream",
     "text": [
      "Episode: 4/5, Score: 7.0, Epsilon: 0.980\n"
     ]
    },
    {
     "name": "stderr",
     "output_type": "stream",
     "text": [
      "100%|██████████| 5/5 [01:49<00:00, 21.87s/it]"
     ]
    },
    {
     "name": "stdout",
     "output_type": "stream",
     "text": [
      "Episode: 5/5, Score: 10.0, Epsilon: 0.975\n"
     ]
    },
    {
     "name": "stderr",
     "output_type": "stream",
     "text": [
      "\n"
     ]
    },
    {
     "name": "stdout",
     "output_type": "stream",
     "text": [
      "Training complete. Q-table saved.\n",
      "Q-table loaded successfully.\n",
      "Starting Episode 1\n"
     ]
    },
    {
     "ename": "KeyboardInterrupt",
     "evalue": "",
     "output_type": "error",
     "traceback": [
      "\u001B[1;31m---------------------------------------------------------------------------\u001B[0m",
      "\u001B[1;31mKeyboardInterrupt\u001B[0m                         Traceback (most recent call last)",
      "Cell \u001B[1;32mIn[5], line 119\u001B[0m\n\u001B[0;32m    116\u001B[0m     \u001B[38;5;28mprint\u001B[39m(\u001B[38;5;124m\"\u001B[39m\u001B[38;5;124mNo Q-table found. Starting fresh.\u001B[39m\u001B[38;5;124m\"\u001B[39m)\n\u001B[0;32m    118\u001B[0m \u001B[38;5;66;03m# Watch Pac-Man play\u001B[39;00m\n\u001B[1;32m--> 119\u001B[0m \u001B[43mpacman\u001B[49m\u001B[38;5;241;43m.\u001B[39;49m\u001B[43mplay\u001B[49m\u001B[43m(\u001B[49m\u001B[43mepisodes\u001B[49m\u001B[38;5;241;43m=\u001B[39;49m\u001B[38;5;241;43m5\u001B[39;49m\u001B[43m)\u001B[49m\n",
      "Cell \u001B[1;32mIn[5], line 95\u001B[0m, in \u001B[0;36mPacmanQLearning.play\u001B[1;34m(self, episodes)\u001B[0m\n\u001B[0;32m     93\u001B[0m \u001B[38;5;28mself\u001B[39m\u001B[38;5;241m.\u001B[39menv\u001B[38;5;241m.\u001B[39mrender()  \u001B[38;5;66;03m# Render the environment\u001B[39;00m\n\u001B[0;32m     94\u001B[0m action \u001B[38;5;241m=\u001B[39m \u001B[38;5;28mself\u001B[39m\u001B[38;5;241m.\u001B[39magent\u001B[38;5;241m.\u001B[39mget_action(state)  \u001B[38;5;66;03m# Use the agent's policy\u001B[39;00m\n\u001B[1;32m---> 95\u001B[0m next_state, reward, done, _, _ \u001B[38;5;241m=\u001B[39m \u001B[38;5;28;43mself\u001B[39;49m\u001B[38;5;241;43m.\u001B[39;49m\u001B[43menv\u001B[49m\u001B[38;5;241;43m.\u001B[39;49m\u001B[43mstep\u001B[49m\u001B[43m(\u001B[49m\u001B[43maction\u001B[49m\u001B[43m)\u001B[49m\n\u001B[0;32m     96\u001B[0m next_state \u001B[38;5;241m=\u001B[39m \u001B[38;5;28mself\u001B[39m\u001B[38;5;241m.\u001B[39mpreprocess_state(next_state)\n\u001B[0;32m     98\u001B[0m state \u001B[38;5;241m=\u001B[39m next_state\n",
      "File \u001B[1;32m~\\PycharmProjects\\Introducere_in_RL\\.venv\\Lib\\site-packages\\gymnasium\\wrappers\\atari_preprocessing.py:162\u001B[0m, in \u001B[0;36mAtariPreprocessing.step\u001B[1;34m(self, action)\u001B[0m\n\u001B[0;32m    159\u001B[0m total_reward, terminated, truncated, info \u001B[38;5;241m=\u001B[39m \u001B[38;5;241m0.0\u001B[39m, \u001B[38;5;28;01mFalse\u001B[39;00m, \u001B[38;5;28;01mFalse\u001B[39;00m, {}\n\u001B[0;32m    161\u001B[0m \u001B[38;5;28;01mfor\u001B[39;00m t \u001B[38;5;129;01min\u001B[39;00m \u001B[38;5;28mrange\u001B[39m(\u001B[38;5;28mself\u001B[39m\u001B[38;5;241m.\u001B[39mframe_skip):\n\u001B[1;32m--> 162\u001B[0m     _, reward, terminated, truncated, info \u001B[38;5;241m=\u001B[39m \u001B[38;5;28;43mself\u001B[39;49m\u001B[38;5;241;43m.\u001B[39;49m\u001B[43menv\u001B[49m\u001B[38;5;241;43m.\u001B[39;49m\u001B[43mstep\u001B[49m\u001B[43m(\u001B[49m\u001B[43maction\u001B[49m\u001B[43m)\u001B[49m\n\u001B[0;32m    163\u001B[0m     total_reward \u001B[38;5;241m+\u001B[39m\u001B[38;5;241m=\u001B[39m reward\n\u001B[0;32m    164\u001B[0m     \u001B[38;5;28mself\u001B[39m\u001B[38;5;241m.\u001B[39mgame_over \u001B[38;5;241m=\u001B[39m terminated\n",
      "File \u001B[1;32m~\\PycharmProjects\\Introducere_in_RL\\.venv\\Lib\\site-packages\\gymnasium\\wrappers\\common.py:393\u001B[0m, in \u001B[0;36mOrderEnforcing.step\u001B[1;34m(self, action)\u001B[0m\n\u001B[0;32m    391\u001B[0m \u001B[38;5;28;01mif\u001B[39;00m \u001B[38;5;129;01mnot\u001B[39;00m \u001B[38;5;28mself\u001B[39m\u001B[38;5;241m.\u001B[39m_has_reset:\n\u001B[0;32m    392\u001B[0m     \u001B[38;5;28;01mraise\u001B[39;00m ResetNeeded(\u001B[38;5;124m\"\u001B[39m\u001B[38;5;124mCannot call env.step() before calling env.reset()\u001B[39m\u001B[38;5;124m\"\u001B[39m)\n\u001B[1;32m--> 393\u001B[0m \u001B[38;5;28;01mreturn\u001B[39;00m \u001B[38;5;28;43msuper\u001B[39;49m\u001B[43m(\u001B[49m\u001B[43m)\u001B[49m\u001B[38;5;241;43m.\u001B[39;49m\u001B[43mstep\u001B[49m\u001B[43m(\u001B[49m\u001B[43maction\u001B[49m\u001B[43m)\u001B[49m\n",
      "File \u001B[1;32m~\\PycharmProjects\\Introducere_in_RL\\.venv\\Lib\\site-packages\\gymnasium\\core.py:322\u001B[0m, in \u001B[0;36mWrapper.step\u001B[1;34m(self, action)\u001B[0m\n\u001B[0;32m    318\u001B[0m \u001B[38;5;28;01mdef\u001B[39;00m \u001B[38;5;21mstep\u001B[39m(\n\u001B[0;32m    319\u001B[0m     \u001B[38;5;28mself\u001B[39m, action: WrapperActType\n\u001B[0;32m    320\u001B[0m ) \u001B[38;5;241m-\u001B[39m\u001B[38;5;241m>\u001B[39m \u001B[38;5;28mtuple\u001B[39m[WrapperObsType, SupportsFloat, \u001B[38;5;28mbool\u001B[39m, \u001B[38;5;28mbool\u001B[39m, \u001B[38;5;28mdict\u001B[39m[\u001B[38;5;28mstr\u001B[39m, Any]]:\n\u001B[0;32m    321\u001B[0m \u001B[38;5;250m    \u001B[39m\u001B[38;5;124;03m\"\"\"Uses the :meth:`step` of the :attr:`env` that can be overwritten to change the returned data.\"\"\"\u001B[39;00m\n\u001B[1;32m--> 322\u001B[0m     \u001B[38;5;28;01mreturn\u001B[39;00m \u001B[38;5;28;43mself\u001B[39;49m\u001B[38;5;241;43m.\u001B[39;49m\u001B[43menv\u001B[49m\u001B[38;5;241;43m.\u001B[39;49m\u001B[43mstep\u001B[49m\u001B[43m(\u001B[49m\u001B[43maction\u001B[49m\u001B[43m)\u001B[49m\n",
      "File \u001B[1;32m~\\PycharmProjects\\Introducere_in_RL\\.venv\\Lib\\site-packages\\gymnasium\\wrappers\\common.py:285\u001B[0m, in \u001B[0;36mPassiveEnvChecker.step\u001B[1;34m(self, action)\u001B[0m\n\u001B[0;32m    283\u001B[0m     \u001B[38;5;28;01mreturn\u001B[39;00m env_step_passive_checker(\u001B[38;5;28mself\u001B[39m\u001B[38;5;241m.\u001B[39menv, action)\n\u001B[0;32m    284\u001B[0m \u001B[38;5;28;01melse\u001B[39;00m:\n\u001B[1;32m--> 285\u001B[0m     \u001B[38;5;28;01mreturn\u001B[39;00m \u001B[38;5;28;43mself\u001B[39;49m\u001B[38;5;241;43m.\u001B[39;49m\u001B[43menv\u001B[49m\u001B[38;5;241;43m.\u001B[39;49m\u001B[43mstep\u001B[49m\u001B[43m(\u001B[49m\u001B[43maction\u001B[49m\u001B[43m)\u001B[49m\n",
      "File \u001B[1;32m~\\PycharmProjects\\Introducere_in_RL\\.venv\\Lib\\site-packages\\ale_py\\env.py:299\u001B[0m, in \u001B[0;36mAtariEnv.step\u001B[1;34m(self, action)\u001B[0m\n\u001B[0;32m    297\u001B[0m reward \u001B[38;5;241m=\u001B[39m \u001B[38;5;241m0.0\u001B[39m\n\u001B[0;32m    298\u001B[0m \u001B[38;5;28;01mfor\u001B[39;00m _ \u001B[38;5;129;01min\u001B[39;00m \u001B[38;5;28mrange\u001B[39m(frameskip):\n\u001B[1;32m--> 299\u001B[0m     reward \u001B[38;5;241m+\u001B[39m\u001B[38;5;241m=\u001B[39m \u001B[38;5;28mself\u001B[39m\u001B[38;5;241m.\u001B[39male\u001B[38;5;241m.\u001B[39mact(action_idx, strength)\n\u001B[0;32m    301\u001B[0m is_terminal \u001B[38;5;241m=\u001B[39m \u001B[38;5;28mself\u001B[39m\u001B[38;5;241m.\u001B[39male\u001B[38;5;241m.\u001B[39mgame_over(with_truncation\u001B[38;5;241m=\u001B[39m\u001B[38;5;28;01mFalse\u001B[39;00m)\n\u001B[0;32m    302\u001B[0m is_truncated \u001B[38;5;241m=\u001B[39m \u001B[38;5;28mself\u001B[39m\u001B[38;5;241m.\u001B[39male\u001B[38;5;241m.\u001B[39mgame_truncated()\n",
      "\u001B[1;31mKeyboardInterrupt\u001B[0m: "
     ]
    }
   ],
   "execution_count": 5
  },
  {
   "metadata": {
    "ExecuteTime": {
     "end_time": "2025-01-12T22:30:40.192902Z",
     "start_time": "2025-01-12T22:30:40.192902Z"
    }
   },
   "cell_type": "code",
   "source": "",
   "id": "38d9d51e596bf66d",
   "outputs": [],
   "execution_count": null
  },
  {
   "metadata": {},
   "cell_type": "code",
   "source": "#replay the game",
   "id": "dc5ae3e6d69735e2",
   "outputs": [],
   "execution_count": null
  }
 ],
 "metadata": {
  "kernelspec": {
   "display_name": "Python 3",
   "language": "python",
   "name": "python3"
  },
  "language_info": {
   "codemirror_mode": {
    "name": "ipython",
    "version": 2
   },
   "file_extension": ".py",
   "mimetype": "text/x-python",
   "name": "python",
   "nbconvert_exporter": "python",
   "pygments_lexer": "ipython2",
   "version": "2.7.6"
  }
 },
 "nbformat": 4,
 "nbformat_minor": 5
}
